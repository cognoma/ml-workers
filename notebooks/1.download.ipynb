{
 "cells": [
  {
   "cell_type": "markdown",
   "metadata": {},
   "source": [
    "# Download cancer-data from figshare\n",
    "\n",
    "The latest figshare data is available at https://doi.org/10.6084/m9.figshare.3487685."
   ]
  },
  {
   "cell_type": "code",
   "execution_count": 1,
   "metadata": {
    "collapsed": true
   },
   "outputs": [],
   "source": [
    "import os\n",
    "from urllib.request import urlretrieve\n",
    "\n",
    "import requests"
   ]
  },
  {
   "cell_type": "code",
   "execution_count": 2,
   "metadata": {
    "collapsed": true
   },
   "outputs": [],
   "source": [
    "# Specify the figshare article ID\n",
    "figshare_id = 3487685"
   ]
  },
  {
   "cell_type": "code",
   "execution_count": 3,
   "metadata": {
    "collapsed": true
   },
   "outputs": [],
   "source": [
    "# Use the figshare API to retrieve article metadata\n",
    "url = \"https://api.figshare.com/v2/articles/{}\".format(figshare_id)\n",
    "response = requests.get(url)\n",
    "response = response.json()"
   ]
  },
  {
   "cell_type": "code",
   "execution_count": 4,
   "metadata": {},
   "outputs": [
    {
     "data": {
      "text/plain": [
       "'10.6084/m9.figshare.3487685.v6'"
      ]
     },
     "execution_count": 4,
     "metadata": {},
     "output_type": "execute_result"
    }
   ],
   "source": [
    "# Show the version specific DOI\n",
    "response['doi']"
   ]
  },
  {
   "cell_type": "code",
   "execution_count": 5,
   "metadata": {
    "collapsed": true
   },
   "outputs": [],
   "source": [
    "# Make the download directory if it does not exist\n",
    "if not os.path.exists('download'):\n",
    "    os.mkdir('download')"
   ]
  },
  {
   "cell_type": "code",
   "execution_count": 6,
   "metadata": {},
   "outputs": [
    {
     "name": "stdout",
     "output_type": "stream",
     "text": [
      "Downloading https://ndownloader.figshare.com/files/7311959 to `samples.tsv`\n",
      "Downloading https://ndownloader.figshare.com/files/7311956 to `covariates.tsv`\n",
      "Downloading https://ndownloader.figshare.com/files/7311950 to `expression-matrix.tsv.bz2`\n",
      "Downloading https://ndownloader.figshare.com/files/7311962 to `expression-genes.tsv`\n",
      "Downloading https://ndownloader.figshare.com/files/7311953 to `mutation-matrix.tsv.bz2`\n",
      "Downloading https://ndownloader.figshare.com/files/7311965 to `mutation-genes.tsv`\n"
     ]
    }
   ],
   "source": [
    "# Download the files specified by the metadata\n",
    "for file_info in response['files']:\n",
    "    url = file_info['download_url']\n",
    "    name = file_info['name']\n",
    "    print('Downloading {} to `{}`'.format(url, name))\n",
    "    path = os.path.join('download', name)\n",
    "    urlretrieve(url, path)"
   ]
  },
  {
   "cell_type": "code",
   "execution_count": null,
   "metadata": {
    "collapsed": true
   },
   "outputs": [],
   "source": []
  }
 ],
 "metadata": {
  "kernelspec": {
   "display_name": "Python 3",
   "language": "python",
   "name": "python3"
  },
  "language_info": {
   "codemirror_mode": {
    "name": "ipython",
    "version": 3
   },
   "file_extension": ".py",
   "mimetype": "text/x-python",
   "name": "python",
   "nbconvert_exporter": "python",
   "pygments_lexer": "ipython3",
   "version": "3.5.3"
  }
 },
 "nbformat": 4,
 "nbformat_minor": 1
}
