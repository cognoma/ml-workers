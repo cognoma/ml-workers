{
 "cells": [
  {
   "cell_type": "markdown",
   "metadata": {},
   "source": [
    "# Predicting mutations from gene expression using TCGA PanCanAtlas\n",
    "\n",
    "This notebook trains a machine learning model to predict mutations from gene expression data. We use gene expression data as an overall measurement of the \"state\" of the system, and we hypothesize that a machine learning model can learn to distinguish malfunctioning genes by the system's downstream response.\n",
    "\n",
    "The model is an elastic net penalized logistic regression classifier and learns a series of weights (or gene importance scores) that together can help predict when genes are altered in a tumor. The notebook loads PanCanAtlas data, trains a machine learning model, and visualizes performance. The notebook is targeted for research purposes and can be used as a jumping-off point to generate new hypotheses. For more details about our approach see [Way _et al._ 2018](https://doi.org/10.1016/j.celrep.2018.03.046).\n",
    "\n",
    "Please direct any questions or bug reports to [GitHub Issues](https://github.com/cognoma/machine-learning/issues).\n",
    "\n",
    "## Notebook Structure\n",
    "\n",
    "The notebook is organized in the following manner:\n",
    "\n",
    "1. Specify Custom User Input from cognoma.org\n",
    "2. Load and Process PanCanAtlas Data\n",
    "  * Add covariate data to model (cancer-type and mutation burden)\n",
    "  * Filter cancer-types and mutation status based on user input\n",
    "3. Setup and Train Machine Learning Model\n",
    "  * Stratify training and test set data\n",
    "  * Setup pipelines for feature selection and hyperparameter tuning\n",
    "  * Setup pipelines for model training and cross-validation\n",
    "  * Fit the model on training set\n",
    "4. Visualize Classifier Performance\n",
    "  * Impact of hyperparameters\n",
    "  * Optimal model Reciever Operating Characteristic (ROC) curve\n",
    "5. Model Interpretation\n",
    "  * Model coefficients (which genes contribute to predictions?)\n",
    "  * Sample scores (which samples have unexpected high scores?)"
   ]
  },
  {
   "cell_type": "code",
   "execution_count": 1,
   "metadata": {},
   "outputs": [
    {
     "name": "stderr",
     "output_type": "stream",
     "text": [
      "/home/gway/anaconda3/lib/python3.5/site-packages/statsmodels/compat/pandas.py:56: FutureWarning: The pandas.core.datetools module is deprecated and will be removed in a future version. Please use the pandas.tseries module instead.\n",
      "  from pandas.core import datetools\n"
     ]
    }
   ],
   "source": [
    "import datetime\n",
    "import os\n",
    "import time\n",
    "\n",
    "import numpy as np\n",
    "import pandas as pd\n",
    "import plotnine as gg\n",
    "\n",
    "from sklearn.decomposition import PCA\n",
    "from sklearn.linear_model import SGDClassifier\n",
    "from sklearn.metrics import roc_auc_score, roc_curve\n",
    "from sklearn.model_selection import train_test_split, StratifiedKFold\n",
    "from sklearn.pipeline import Pipeline, FeatureUnion\n",
    "from sklearn.preprocessing import StandardScaler, FunctionTransformer\n",
    "from dask_searchcv import GridSearchCV\n",
    "\n",
    "from utils import get_model_coefficients, get_genes_coefficients, theme_cognoma\n",
    "from utils import select_feature_set_columns, get_threshold_metrics"
   ]
  },
  {
   "cell_type": "code",
   "execution_count": 2,
   "metadata": {},
   "outputs": [],
   "source": [
    "%matplotlib inline"
   ]
  },
  {
   "cell_type": "markdown",
   "metadata": {},
   "source": [
    "## 1) Specify custom user input\n",
    "\n",
    "These are the arguments that were input to [cognoma.org](http://cognoma.org)"
   ]
  },
  {
   "cell_type": "code",
   "execution_count": 3,
   "metadata": {},
   "outputs": [
    {
     "name": "stdout",
     "output_type": "stream",
     "text": [
      "Genes: ['7157']\n",
      "Diseases: None\n"
     ]
    }
   ],
   "source": [
    "# Information passed into the notebook is stored in environment variables\n",
    "gene_ids = os.environ.get('gene_ids')\n",
    "disease_acronyms = os.environ.get('disease_acronyms')\n",
    "\n",
    "# Set defaults if none are provided\n",
    "if not gene_ids:\n",
    "    # use TP53 as the default\n",
    "    gene_ids = ['7157']\n",
    "else:\n",
    "    gene_ids = gene_ids.split('-')\n",
    "\n",
    "if not disease_acronyms:\n",
    "    # use all of the diseases as default\n",
    "    disease_acronyms = None\n",
    "else:\n",
    "    disease_acronyms = disease_acronyms.split('-')\n",
    "    \n",
    "print(\"Genes: {}\".format(str(gene_ids)))\n",
    "print(\"Diseases: {}\".format(str(disease_acronyms)))"
   ]
  },
  {
   "cell_type": "markdown",
   "metadata": {},
   "source": [
    "## 2) Load RNAseq, mutation, and covariate PanCanAtlas data"
   ]
  },
  {
   "cell_type": "code",
   "execution_count": 4,
   "metadata": {},
   "outputs": [],
   "source": [
    "path = os.path.join('download', 'expression-matrix.tsv.bz2')\n",
    "expression_df = pd.read_table(path, index_col=0)\n",
    "\n",
    "path = os.path.join('download', 'mutation-matrix.tsv.bz2')\n",
    "mutation_df = pd.read_table(path, index_col=0)\n",
    "\n",
    "path = os.path.join('download', 'covariates.tsv')\n",
    "covariate_df = pd.read_table(path, index_col=0)\n",
    "\n",
    "path = os.path.join('download', 'expression-genes.tsv')\n",
    "expression_genes_df = pd.read_table(path, index_col=0)"
   ]
  },
  {
   "cell_type": "markdown",
   "metadata": {},
   "source": [
    "### 2A) Process covariate data to include as variables in the model\n",
    "\n",
    "1. Extract TCGA cancer-type indicator variables (acronyms)\n",
    "2. Adjust for overall mutation burden of the tumor"
   ]
  },
  {
   "cell_type": "code",
   "execution_count": 5,
   "metadata": {},
   "outputs": [],
   "source": [
    "# Select acronym_x and n_mutations_log1p covariates only\n",
    "disease_cols = [col for col in covariate_df.columns if col.startswith('acronym_')]\n",
    "\n",
    "# Filter covariate columns by disease based on input list\n",
    "if disease_acronyms:\n",
    "    disease_cols = [col for col in disease_cols if col.endswith(tuple(disease_acronyms))]\n",
    "    \n",
    "selected_cols = disease_cols + ['n_mutations_log1p']\n",
    "covariate_df = covariate_df[selected_cols]"
   ]
  },
  {
   "cell_type": "code",
   "execution_count": 6,
   "metadata": {},
   "outputs": [],
   "source": [
    "# Filter the rows by disease type\n",
    "# subsection of columns with row-wise max\n",
    "has_disease = covariate_df[disease_cols].max(axis=1) > 0\n",
    "covariate_df = covariate_df[has_disease]"
   ]
  },
  {
   "cell_type": "markdown",
   "metadata": {},
   "source": [
    "### 2B) Filter RNAseq and mutation data"
   ]
  },
  {
   "cell_type": "code",
   "execution_count": 7,
   "metadata": {},
   "outputs": [],
   "source": [
    "expression_df = expression_df[expression_df.index.isin(covariate_df.index)]\n",
    "mutation_df = mutation_df[mutation_df.index.isin(covariate_df.index)]"
   ]
  },
  {
   "cell_type": "code",
   "execution_count": 8,
   "metadata": {},
   "outputs": [
    {
     "data": {
      "text/plain": [
       "sample_id\n",
       "TCGA-02-0047-01    0\n",
       "TCGA-02-0055-01    1\n",
       "TCGA-02-2483-01    1\n",
       "TCGA-02-2485-01    1\n",
       "TCGA-02-2486-01    0\n",
       "TCGA-04-1348-01    1\n",
       "dtype: int64"
      ]
     },
     "execution_count": 8,
     "metadata": {},
     "output_type": "execute_result"
    }
   ],
   "source": [
    "# The series holds Gene Mutation Status for each sample\n",
    "# Take max of mutation status, meaning if any of the genes mutated the value should be 1\n",
    "y = mutation_df[gene_ids].max(axis=1)\n",
    "y.head(6)"
   ]
  },
  {
   "cell_type": "code",
   "execution_count": 9,
   "metadata": {},
   "outputs": [
    {
     "name": "stdout",
     "output_type": "stream",
     "text": [
      "Gene expression matrix shape: (7306, 20468)\n",
      "Covariates matrix shape: (7306, 33)\n"
     ]
    }
   ],
   "source": [
    "print('Gene expression matrix shape: {}'.format(expression_df.shape))\n",
    "print('Covariates matrix shape: {}'.format(covariate_df.shape))"
   ]
  },
  {
   "cell_type": "markdown",
   "metadata": {},
   "source": [
    "## 3) Machine Learning\n",
    "\n",
    "Initialize and train a machine learning algorithm to predict gene mutation status (`y`) from RNAseq gene expression data (`X`).\n",
    "\n",
    "### 3A) Stratify training and test set data\n",
    "\n",
    "The first step in our approach is to set 10% of the data aside for testing. The model will not be exposed to these samples and therefore provides a reasonable estimate on how the model will perform on new data."
   ]
  },
  {
   "cell_type": "code",
   "execution_count": 10,
   "metadata": {},
   "outputs": [
    {
     "data": {
      "text/plain": [
       "0    0.645907\n",
       "1    0.354093\n",
       "dtype: float64"
      ]
     },
     "execution_count": 10,
     "metadata": {},
     "output_type": "execute_result"
    }
   ],
   "source": [
    "# Typically, this type of split can only be done \n",
    "# for genes where the number of mutations is large enough\n",
    "X = pd.concat([covariate_df, expression_df], axis='columns')\n",
    "X_train, X_test, y_train, y_test = train_test_split(X, y, stratify=y, test_size=0.1, random_state=0)\n",
    "\n",
    "# Here are the percentage of tumors with TP53\n",
    "y.value_counts(True)"
   ]
  },
  {
   "cell_type": "markdown",
   "metadata": {},
   "source": [
    "### 3B) Feature selection\n",
    "\n",
    "Another important consideration when developing machine learning approaches are the features used to train the model. In this case, the features are gene expression values for each gene compressed by PCA and covariate data (cancer-type and mutation burden).\n",
    "\n",
    "First, set up [`sklearn pipelines`](http://scikit-learn.org/stable/modules/generated/sklearn.pipeline.Pipeline.html) that are implemented later in the notebook."
   ]
  },
  {
   "cell_type": "code",
   "execution_count": 11,
   "metadata": {},
   "outputs": [],
   "source": [
    "# Creates the expression features by standarizing them and running PCA\n",
    "\n",
    "# Because the expressions matrix is so large, we preprocess with PCA\n",
    "# The amount of variance in the data captured by ~100 components is high\n",
    "expression_features = Pipeline([\n",
    "    ('select_features', FunctionTransformer(select_feature_set_columns,\n",
    "        kw_args={'feature_set': 'expressions',\n",
    "                 'n_covariates': covariate_df.shape[1]})),\n",
    "    ('standardize', StandardScaler()),\n",
    "    ('pca', PCA())\n",
    "])\n",
    "\n",
    "# Creates the covariate features by selecting and standardizing them\n",
    "covariate_features = Pipeline([\n",
    "    ('select_features', FunctionTransformer(select_feature_set_columns,\n",
    "        kw_args={'feature_set': 'covariates',\n",
    "                 'n_covariates': covariate_df.shape[1]})),\n",
    "    ('standardize', StandardScaler())\n",
    "])"
   ]
  },
  {
   "cell_type": "markdown",
   "metadata": {},
   "source": [
    "Another important part of machine learning is to tune hyperparameters for optimal model performance. Hyperparameters are different depending on the algorithm of choice, but generally they are variables that are set in advance, prior to training. These are often chosen in non-arbitrary ways using cross-validation. \n",
    "\n",
    "For logistic regression, and our purposes specifically, we tune alpha regularization penalty. See [`SGDClassifier`](http://scikit-learn.org/stable/modules/generated/sklearn.linear_model.SGDClassifier.html) for more details. Note that our elastic net penalty was set to 0 (`L2 Regression`) by default. We also use a variable number of PCA components depending on class size."
   ]
  },
  {
   "cell_type": "code",
   "execution_count": 12,
   "metadata": {},
   "outputs": [],
   "source": [
    "# Parameter Sweep for Hyperparameters\n",
    "regularization_alpha_list = [10 ** x for x in range(-10, 10)]\n",
    "\n",
    "# Chose n_components based on number of positives (or negatives, if that is less)\n",
    "min_class_size = min(y.sum(), len(y) - y.sum())\n",
    "if min_class_size > 500:\n",
    "    n_components_list = [100]\n",
    "elif min_class_size > 250:\n",
    "    n_components_list = [50]\n",
    "else:\n",
    "    n_components_list = [30]\n",
    "\n",
    "# Setup parameter grids to search through\n",
    "param_grids = {\n",
    "    'full': {\n",
    "        'features__expressions__pca__n_components' : n_components_list,\n",
    "        'classify__alpha': regularization_alpha_list\n",
    "    },\n",
    "    'expressions': {\n",
    "        'features__expressions__pca__n_components' : n_components_list,\n",
    "        'classify__alpha': regularization_alpha_list\n",
    "    },\n",
    "    'covariates': {\n",
    "        'classify__alpha': regularization_alpha_list\n",
    "    }\n",
    "}"
   ]
  },
  {
   "cell_type": "markdown",
   "metadata": {},
   "source": [
    "### 3C) Setup classifier and cross-validation pipelines\n",
    "\n",
    "Next, initialize the classifier and 3-fold cross-validation as sklearn pipelines.\n",
    "\n",
    "Cross validation randomly separates the training set into `n` partitions, fits the model using data from `n-1` partitions and evaluates performance on the left out partition. This process is repeated for all partitions belonging in the cross-validation test set."
   ]
  },
  {
   "cell_type": "code",
   "execution_count": 13,
   "metadata": {},
   "outputs": [],
   "source": [
    "# Initiate logistic regression object\n",
    "classifier = SGDClassifier(penalty='elasticnet',\n",
    "                           l1_ratio=0,\n",
    "                           loss='log', \n",
    "                           class_weight='balanced',\n",
    "                           random_state=0)"
   ]
  },
  {
   "cell_type": "code",
   "execution_count": 14,
   "metadata": {},
   "outputs": [],
   "source": [
    "# Full model pipelines\n",
    "pipeline_definitions = {\n",
    "    'full': Pipeline([\n",
    "        ('features', FeatureUnion([\n",
    "            ('expressions', expression_features),\n",
    "            ('covariates', covariate_features)\n",
    "        ])),\n",
    "        ('classify', classifier)\n",
    "    ]),\n",
    "    'expressions': Pipeline([\n",
    "        ('features', FeatureUnion([('expressions', expression_features)])),\n",
    "        ('classify', classifier)\n",
    "    ]),\n",
    "    'covariates': Pipeline([\n",
    "        ('features', FeatureUnion([('covariates', covariate_features)])),\n",
    "        ('classify', classifier)\n",
    "    ])\n",
    "}"
   ]
  },
  {
   "cell_type": "code",
   "execution_count": 15,
   "metadata": {},
   "outputs": [],
   "source": [
    "# Construct cross-validated grid searches\n",
    "cv_pipelines = dict()\n",
    "for model, pipeline in pipeline_definitions.items():\n",
    "    cv = StratifiedKFold(n_splits=3, random_state=0)\n",
    "    grid_search = GridSearchCV(\n",
    "        estimator=pipeline,\n",
    "        param_grid=param_grids[model],\n",
    "        cv=cv,\n",
    "        n_jobs=1, \n",
    "        scoring='roc_auc',\n",
    "    )\n",
    "    cv_pipelines[model] = grid_search"
   ]
  },
  {
   "cell_type": "markdown",
   "metadata": {},
   "source": [
    "### 3E) Fit the model and determine optimal hyperparameters\n",
    "\n",
    "Use all previously initialized variables and processed data to train machine learning models"
   ]
  },
  {
   "cell_type": "code",
   "execution_count": 16,
   "metadata": {},
   "outputs": [
    {
     "name": "stdout",
     "output_type": "stream",
     "text": [
      "Fitting CV for model: full\n"
     ]
    },
    {
     "name": "stderr",
     "output_type": "stream",
     "text": [
      "/home/gway/anaconda3/lib/python3.5/site-packages/dask/base.py:170: UserWarning: DeprecationWarning: `dask.base.Base` is deprecated. To check if an object is a dask collection use dask.base.is_dask_collection.\n",
      "\n",
      "See http://dask.pydata.org/en/latest/custom-collections.html  for more information\n",
      "  warnings.warn(\"DeprecationWarning: `dask.base.Base` is deprecated. \"\n"
     ]
    },
    {
     "name": "stdout",
     "output_type": "stream",
     "text": [
      "\truntime: 0:03:23.043386\n",
      "Fitting CV for model: covariates\n",
      "\truntime: 0:00:25.882742\n",
      "Fitting CV for model: expressions\n",
      "\truntime: 0:02:59.198977\n"
     ]
    }
   ],
   "source": [
    "# Fit the models\n",
    "for model, pipeline in cv_pipelines.items():\n",
    "    print('Fitting CV for model: {0}'.format(model))\n",
    "    start_time = time.perf_counter()\n",
    "    pipeline.fit(X=X_train, y=y_train)\n",
    "    end_time = time.perf_counter()\n",
    "    elapsed = datetime.timedelta(seconds=end_time - start_time)\n",
    "    print('\\truntime: {}'.format(elapsed))"
   ]
  },
  {
   "cell_type": "code",
   "execution_count": 17,
   "metadata": {},
   "outputs": [
    {
     "name": "stdout",
     "output_type": "stream",
     "text": [
      "# full\n",
      "{'features__expressions__pca__n_components': 100, 'classify__alpha': 1}\n",
      "cv_auroc = 91.639%\n",
      "# covariates\n",
      "{'classify__alpha': 0.01}\n",
      "cv_auroc = 84.097%\n",
      "# expressions\n",
      "{'features__expressions__pca__n_components': 100, 'classify__alpha': 1}\n",
      "cv_auroc = 91.521%\n"
     ]
    }
   ],
   "source": [
    "# Best Parameters\n",
    "for model, pipeline in cv_pipelines.items():\n",
    "    print('#', model)\n",
    "    print(pipeline.best_params_)\n",
    "    print('cv_auroc = {:.3%}'.format(pipeline.best_score_))"
   ]
  },
  {
   "cell_type": "markdown",
   "metadata": {},
   "source": [
    "## 4) Visualize Classifier Performance\n",
    "\n",
    "### 4A) Observe performance across regularization strengths\n",
    "\n",
    "We first visualize the performance of models across different combinations of input hyperparameters across different data types. "
   ]
  },
  {
   "cell_type": "code",
   "execution_count": 18,
   "metadata": {},
   "outputs": [],
   "source": [
    "cv_results_df = pd.DataFrame()\n",
    "for model, pipeline in cv_pipelines.items():\n",
    "    df = pd.concat([\n",
    "        pd.DataFrame(pipeline.cv_results_),\n",
    "        pd.DataFrame.from_records(pipeline.cv_results_['params'])\n",
    "    ], axis='columns')\n",
    "    df['feature_set'] = model\n",
    "    cv_results_df = cv_results_df.append(df)\n",
    "    \n",
    "cv_results_summary = (cv_results_df\n",
    "    .groupby(['classify__alpha', 'feature_set'])['mean_test_score']\n",
    "    .max()\n",
    "    .reset_index())"
   ]
  },
  {
   "cell_type": "code",
   "execution_count": 19,
   "metadata": {},
   "outputs": [
    {
     "data": {
      "image/png": "[encoded data removed]",
      "text/plain": [
       "<matplotlib.figure.Figure at 0x7f9e0795ba20>"
      ]
     },
     "metadata": {},
     "output_type": "display_data"
    },
    {
     "data": {
      "text/plain": [
       "<ggplot: (8769900161456)>"
      ]
     },
     "execution_count": 19,
     "metadata": {},
     "output_type": "execute_result"
    }
   ],
   "source": [
    "(gg.ggplot(cv_results_summary, gg.aes(x='classify__alpha',\n",
    "                                      y='mean_test_score',\n",
    "                                      color='feature_set'))\n",
    " + gg.geom_jitter(size=4, alpha=0.8, height=0, width=0.05)\n",
    " + gg.scale_x_log10()\n",
    " + gg.labs(x='Regularization strength multiplier (log alpha)',\n",
    "           y='CV AUROC')\n",
    " + gg.guides(fill=gg.guide_legend(title=\"Feature Set\"))\n",
    " + gg.aes(ymin=min([0.5, cv_results_summary['mean_test_score'].min()]), ymax=1)\n",
    " + theme_cognoma()\n",
    ")"
   ]
  },
  {
   "cell_type": "markdown",
   "metadata": {},
   "source": [
    "### 4B) Use optimal hyperparameters to output ROC curve\n",
    "\n",
    "Next, the model is trained with the optimal combination of hyperparameters and visualized with an ROC curve."
   ]
  },
  {
   "cell_type": "code",
   "execution_count": 20,
   "metadata": {},
   "outputs": [],
   "source": [
    "y_pred_dict = {\n",
    "    model: {\n",
    "        'train': pipeline.decision_function(X_train),\n",
    "        'test':  pipeline.decision_function(X_test)\n",
    "    } for model, pipeline in cv_pipelines.items()\n",
    "}\n",
    "\n",
    "metrics_dict = {    \n",
    "    model: {\n",
    "        'train': get_threshold_metrics(y_train, y_pred_dict[model]['train']),\n",
    "        'test':  get_threshold_metrics(y_test, y_pred_dict[model]['test'])\n",
    "    } for model in y_pred_dict.keys()\n",
    "}"
   ]
  },
  {
   "cell_type": "code",
   "execution_count": 21,
   "metadata": {},
   "outputs": [],
   "source": [
    "# Assemble the data for ROC curves\n",
    "model_order = ['full', 'expressions', 'covariates']\n",
    "\n",
    "auc_output = pd.DataFrame()\n",
    "roc_output = pd.DataFrame()\n",
    "\n",
    "for model in model_order:\n",
    "    metrics_partition = metrics_dict[model]\n",
    "    for partition, metrics in metrics_partition.items():\n",
    "        auc_output = auc_output.append(pd.DataFrame({\n",
    "            'partition': [partition],\n",
    "            'feature_set': [model],\n",
    "            'auc': metrics['auroc'].round(3)\n",
    "        }))\n",
    "        roc_df = metrics['roc_df']\n",
    "        roc_output = roc_output.append(pd.DataFrame({\n",
    "            'false_positive_rate': roc_df.fpr,\n",
    "            'true_positive_rate': roc_df.tpr,\n",
    "            'partition': partition,\n",
    "            'feature_set': model\n",
    "        }))\n",
    "\n",
    "(gg.ggplot(roc_output, gg.aes(x='false_positive_rate',\n",
    "                              y='true_positive_rate',\n",
    "                              color='feature_set',\n",
    "                              linetype='partition'))\n",
    " + gg.geom_line(size=1.1, alpha=0.7)\n",
    " + gg.labs(x='false positive rate', y='true positive rate')\n",
    " + theme_cognoma()\n",
    ");"
   ]
  },
  {
   "cell_type": "markdown",
   "metadata": {},
   "source": [
    "#### What are the AUROCs for training and testing across data types?"
   ]
  },
  {
   "cell_type": "code",
   "execution_count": 22,
   "metadata": {},
   "outputs": [
    {
     "data": {
      "text/html": [
       "<div>\n",
       "<style scoped>\n",
       "    .dataframe tbody tr th:only-of-type {\n",
       "        vertical-align: middle;\n",
       "    }\n",
       "\n",
       "    .dataframe tbody tr th {\n",
       "        vertical-align: top;\n",
       "    }\n",
       "\n",
       "    .dataframe thead th {\n",
       "        text-align: right;\n",
       "    }\n",
       "</style>\n",
       "<table border=\"1\" class=\"dataframe\">\n",
       "  <thead>\n",
       "    <tr style=\"text-align: right;\">\n",
       "      <th>partition</th>\n",
       "      <th>test</th>\n",
       "      <th>train</th>\n",
       "    </tr>\n",
       "    <tr>\n",
       "      <th>feature_set</th>\n",
       "      <th></th>\n",
       "      <th></th>\n",
       "    </tr>\n",
       "  </thead>\n",
       "  <tbody>\n",
       "    <tr>\n",
       "      <th>covariates</th>\n",
       "      <td>0.853</td>\n",
       "      <td>0.844</td>\n",
       "    </tr>\n",
       "    <tr>\n",
       "      <th>expressions</th>\n",
       "      <td>0.911</td>\n",
       "      <td>0.914</td>\n",
       "    </tr>\n",
       "    <tr>\n",
       "      <th>full</th>\n",
       "      <td>0.912</td>\n",
       "      <td>0.915</td>\n",
       "    </tr>\n",
       "  </tbody>\n",
       "</table>\n",
       "</div>"
      ],
      "text/plain": [
       "partition     test  train\n",
       "feature_set              \n",
       "covariates   0.853  0.844\n",
       "expressions  0.911  0.914\n",
       "full         0.912  0.915"
      ]
     },
     "execution_count": 22,
     "metadata": {},
     "output_type": "execute_result"
    }
   ],
   "source": [
    "pd.pivot_table(auc_output,\n",
    "               values='auc',\n",
    "               index='feature_set',\n",
    "               columns='partition')"
   ]
  },
  {
   "cell_type": "markdown",
   "metadata": {},
   "source": [
    "## 5) Classifier Interpretation\n",
    "\n",
    "The outputs of the model can be interpreted in various ways. For instance, the model coefficients describe the changes in gene expression that are associated with mutated or wild-type tumors for the given input gene(s).\n",
    "\n",
    "### 5A) Determine importance scores for model features\n",
    "\n",
    "Observe which PCA components are most predictive. Then observe which genes are most representative of the important PCA components. Investigate important coefficients for the expression only _and_ covariate plus expression models."
   ]
  },
  {
   "cell_type": "code",
   "execution_count": 23,
   "metadata": {},
   "outputs": [],
   "source": [
    "final_pipelines = {\n",
    "    model: pipeline.best_estimator_\n",
    "    for model, pipeline in cv_pipelines.items()\n",
    "}\n",
    "final_classifiers = {\n",
    "    model: pipeline.named_steps['classify']\n",
    "    for model, pipeline in final_pipelines.items()\n",
    "}\n",
    "\n",
    "coef_df = pd.concat([\n",
    "    get_model_coefficients(classifier, model, covariate_df.columns)\n",
    "    for model, classifier in final_classifiers.items()\n",
    "])"
   ]
  },
  {
   "cell_type": "code",
   "execution_count": 24,
   "metadata": {},
   "outputs": [
    {
     "data": {
      "text/html": [
       "<div>\n",
       "<style scoped>\n",
       "    .dataframe tbody tr th:only-of-type {\n",
       "        vertical-align: middle;\n",
       "    }\n",
       "\n",
       "    .dataframe tbody tr th {\n",
       "        vertical-align: top;\n",
       "    }\n",
       "\n",
       "    .dataframe thead th {\n",
       "        text-align: right;\n",
       "    }\n",
       "</style>\n",
       "<table border=\"1\" class=\"dataframe\">\n",
       "  <thead>\n",
       "    <tr style=\"text-align: right;\">\n",
       "      <th>coefficient_sign</th>\n",
       "      <th>-1.0</th>\n",
       "      <th>1.0</th>\n",
       "    </tr>\n",
       "    <tr>\n",
       "      <th>feature_set</th>\n",
       "      <th></th>\n",
       "      <th></th>\n",
       "    </tr>\n",
       "  </thead>\n",
       "  <tbody>\n",
       "    <tr>\n",
       "      <th>covariates</th>\n",
       "      <td>17</td>\n",
       "      <td>16</td>\n",
       "    </tr>\n",
       "    <tr>\n",
       "      <th>expressions</th>\n",
       "      <td>48</td>\n",
       "      <td>52</td>\n",
       "    </tr>\n",
       "    <tr>\n",
       "      <th>full</th>\n",
       "      <td>64</td>\n",
       "      <td>69</td>\n",
       "    </tr>\n",
       "  </tbody>\n",
       "</table>\n",
       "</div>"
      ],
      "text/plain": [
       "coefficient_sign  -1.0   1.0\n",
       "feature_set                 \n",
       "covariates          17    16\n",
       "expressions         48    52\n",
       "full                64    69"
      ]
     },
     "execution_count": 24,
     "metadata": {},
     "output_type": "execute_result"
    }
   ],
   "source": [
    "# Signs of the coefficients by model\n",
    "pd.crosstab(coef_df.feature_set, np.sign(coef_df.weight).rename('coefficient_sign'))"
   ]
  },
  {
   "cell_type": "markdown",
   "metadata": {},
   "source": [
    "### Top coefficients for covariates model"
   ]
  },
  {
   "cell_type": "code",
   "execution_count": 25,
   "metadata": {},
   "outputs": [
    {
     "data": {
      "text/html": [
       "<div>\n",
       "<style scoped>\n",
       "    .dataframe tbody tr th:only-of-type {\n",
       "        vertical-align: middle;\n",
       "    }\n",
       "\n",
       "    .dataframe tbody tr th {\n",
       "        vertical-align: top;\n",
       "    }\n",
       "\n",
       "    .dataframe thead th {\n",
       "        text-align: right;\n",
       "    }\n",
       "</style>\n",
       "<table border=\"1\" class=\"dataframe\">\n",
       "  <thead>\n",
       "    <tr style=\"text-align: right;\">\n",
       "      <th></th>\n",
       "      <th>feature</th>\n",
       "      <th>weight</th>\n",
       "      <th>abs</th>\n",
       "      <th>feature_set</th>\n",
       "    </tr>\n",
       "  </thead>\n",
       "  <tbody>\n",
       "    <tr>\n",
       "      <th>34</th>\n",
       "      <td>PCA_34</td>\n",
       "      <td>0.060877</td>\n",
       "      <td>0.060877</td>\n",
       "      <td>full</td>\n",
       "    </tr>\n",
       "    <tr>\n",
       "      <th>29</th>\n",
       "      <td>PCA_29</td>\n",
       "      <td>0.056681</td>\n",
       "      <td>0.056681</td>\n",
       "      <td>full</td>\n",
       "    </tr>\n",
       "    <tr>\n",
       "      <th>87</th>\n",
       "      <td>PCA_87</td>\n",
       "      <td>-0.053138</td>\n",
       "      <td>0.053138</td>\n",
       "      <td>full</td>\n",
       "    </tr>\n",
       "    <tr>\n",
       "      <th>37</th>\n",
       "      <td>PCA_37</td>\n",
       "      <td>-0.042660</td>\n",
       "      <td>0.042660</td>\n",
       "      <td>full</td>\n",
       "    </tr>\n",
       "    <tr>\n",
       "      <th>11</th>\n",
       "      <td>PCA_11</td>\n",
       "      <td>-0.037666</td>\n",
       "      <td>0.037666</td>\n",
       "      <td>full</td>\n",
       "    </tr>\n",
       "    <tr>\n",
       "      <th>24</th>\n",
       "      <td>PCA_24</td>\n",
       "      <td>0.037498</td>\n",
       "      <td>0.037498</td>\n",
       "      <td>full</td>\n",
       "    </tr>\n",
       "    <tr>\n",
       "      <th>2</th>\n",
       "      <td>PCA_2</td>\n",
       "      <td>-0.036474</td>\n",
       "      <td>0.036474</td>\n",
       "      <td>full</td>\n",
       "    </tr>\n",
       "    <tr>\n",
       "      <th>22</th>\n",
       "      <td>PCA_22</td>\n",
       "      <td>-0.035916</td>\n",
       "      <td>0.035916</td>\n",
       "      <td>full</td>\n",
       "    </tr>\n",
       "    <tr>\n",
       "      <th>57</th>\n",
       "      <td>PCA_57</td>\n",
       "      <td>-0.034080</td>\n",
       "      <td>0.034080</td>\n",
       "      <td>full</td>\n",
       "    </tr>\n",
       "    <tr>\n",
       "      <th>62</th>\n",
       "      <td>PCA_62</td>\n",
       "      <td>-0.033264</td>\n",
       "      <td>0.033264</td>\n",
       "      <td>full</td>\n",
       "    </tr>\n",
       "  </tbody>\n",
       "</table>\n",
       "</div>"
      ],
      "text/plain": [
       "   feature    weight       abs feature_set\n",
       "34  PCA_34  0.060877  0.060877        full\n",
       "29  PCA_29  0.056681  0.056681        full\n",
       "87  PCA_87 -0.053138  0.053138        full\n",
       "37  PCA_37 -0.042660  0.042660        full\n",
       "11  PCA_11 -0.037666  0.037666        full\n",
       "24  PCA_24  0.037498  0.037498        full\n",
       "2    PCA_2 -0.036474  0.036474        full\n",
       "22  PCA_22 -0.035916  0.035916        full\n",
       "57  PCA_57 -0.034080  0.034080        full\n",
       "62  PCA_62 -0.033264  0.033264        full"
      ]
     },
     "execution_count": 25,
     "metadata": {},
     "output_type": "execute_result"
    }
   ],
   "source": [
    "coef_df.query(\"feature_set == 'full'\").head(10)"
   ]
  },
  {
   "cell_type": "markdown",
   "metadata": {},
   "source": [
    "### Top coefficients for individual _genes_ for full model"
   ]
  },
  {
   "cell_type": "code",
   "execution_count": 26,
   "metadata": {},
   "outputs": [
    {
     "data": {
      "text/html": [
       "<div>\n",
       "<style scoped>\n",
       "    .dataframe tbody tr th:only-of-type {\n",
       "        vertical-align: middle;\n",
       "    }\n",
       "\n",
       "    .dataframe tbody tr th {\n",
       "        vertical-align: top;\n",
       "    }\n",
       "\n",
       "    .dataframe thead th {\n",
       "        text-align: right;\n",
       "    }\n",
       "</style>\n",
       "<table border=\"1\" class=\"dataframe\">\n",
       "  <thead>\n",
       "    <tr style=\"text-align: right;\">\n",
       "      <th></th>\n",
       "      <th>symbol</th>\n",
       "      <th>weight</th>\n",
       "      <th>abs</th>\n",
       "      <th>description</th>\n",
       "    </tr>\n",
       "    <tr>\n",
       "      <th>entrez_id</th>\n",
       "      <th></th>\n",
       "      <th></th>\n",
       "      <th></th>\n",
       "      <th></th>\n",
       "    </tr>\n",
       "  </thead>\n",
       "  <tbody>\n",
       "    <tr>\n",
       "      <th>4193</th>\n",
       "      <td>MDM2</td>\n",
       "      <td>-0.007823</td>\n",
       "      <td>0.007823</td>\n",
       "      <td>MDM2 proto-oncogene</td>\n",
       "    </tr>\n",
       "    <tr>\n",
       "      <th>64782</th>\n",
       "      <td>AEN</td>\n",
       "      <td>-0.007198</td>\n",
       "      <td>0.007198</td>\n",
       "      <td>apoptosis enhancing nuclease</td>\n",
       "    </tr>\n",
       "    <tr>\n",
       "      <th>23729</th>\n",
       "      <td>SHPK</td>\n",
       "      <td>-0.006913</td>\n",
       "      <td>0.006913</td>\n",
       "      <td>sedoheptulokinase</td>\n",
       "    </tr>\n",
       "    <tr>\n",
       "      <th>23612</th>\n",
       "      <td>PHLDA3</td>\n",
       "      <td>-0.006636</td>\n",
       "      <td>0.006636</td>\n",
       "      <td>pleckstrin homology like domain family A member 3</td>\n",
       "    </tr>\n",
       "    <tr>\n",
       "      <th>81626</th>\n",
       "      <td>SHCBP1L</td>\n",
       "      <td>-0.006603</td>\n",
       "      <td>0.006603</td>\n",
       "      <td>SHC binding and spindle associated 1 like</td>\n",
       "    </tr>\n",
       "    <tr>\n",
       "      <th>1819</th>\n",
       "      <td>DRG2</td>\n",
       "      <td>-0.006506</td>\n",
       "      <td>0.006506</td>\n",
       "      <td>developmentally regulated GTP binding protein 2</td>\n",
       "    </tr>\n",
       "    <tr>\n",
       "      <th>132671</th>\n",
       "      <td>SPATA18</td>\n",
       "      <td>-0.006324</td>\n",
       "      <td>0.006324</td>\n",
       "      <td>spermatogenesis associated 18</td>\n",
       "    </tr>\n",
       "    <tr>\n",
       "      <th>60401</th>\n",
       "      <td>EDA2R</td>\n",
       "      <td>-0.006226</td>\n",
       "      <td>0.006226</td>\n",
       "      <td>ectodysplasin A2 receptor</td>\n",
       "    </tr>\n",
       "    <tr>\n",
       "      <th>1643</th>\n",
       "      <td>DDB2</td>\n",
       "      <td>-0.006150</td>\n",
       "      <td>0.006150</td>\n",
       "      <td>damage specific DNA binding protein 2</td>\n",
       "    </tr>\n",
       "    <tr>\n",
       "      <th>51499</th>\n",
       "      <td>TRIAP1</td>\n",
       "      <td>-0.005938</td>\n",
       "      <td>0.005938</td>\n",
       "      <td>TP53 regulated inhibitor of apoptosis 1</td>\n",
       "    </tr>\n",
       "  </tbody>\n",
       "</table>\n",
       "</div>"
      ],
      "text/plain": [
       "            symbol    weight       abs  \\\n",
       "entrez_id                                \n",
       "4193          MDM2 -0.007823  0.007823   \n",
       "64782          AEN -0.007198  0.007198   \n",
       "23729         SHPK -0.006913  0.006913   \n",
       "23612       PHLDA3 -0.006636  0.006636   \n",
       "81626      SHCBP1L -0.006603  0.006603   \n",
       "1819          DRG2 -0.006506  0.006506   \n",
       "132671     SPATA18 -0.006324  0.006324   \n",
       "60401        EDA2R -0.006226  0.006226   \n",
       "1643          DDB2 -0.006150  0.006150   \n",
       "51499       TRIAP1 -0.005938  0.005938   \n",
       "\n",
       "                                                 description  \n",
       "entrez_id                                                     \n",
       "4193                                     MDM2 proto-oncogene  \n",
       "64782                           apoptosis enhancing nuclease  \n",
       "23729                                      sedoheptulokinase  \n",
       "23612      pleckstrin homology like domain family A member 3  \n",
       "81626              SHC binding and spindle associated 1 like  \n",
       "1819         developmentally regulated GTP binding protein 2  \n",
       "132671                         spermatogenesis associated 18  \n",
       "60401                              ectodysplasin A2 receptor  \n",
       "1643                   damage specific DNA binding protein 2  \n",
       "51499                TP53 regulated inhibitor of apoptosis 1  "
      ]
     },
     "execution_count": 26,
     "metadata": {},
     "output_type": "execute_result"
    }
   ],
   "source": [
    "pca_for_full = (\n",
    "    final_pipelines['full']\n",
    "    .named_steps['features']\n",
    "    .get_params()['expressions__pca']\n",
    "    )\n",
    "\n",
    "classifier_for_full = (\n",
    "    final_pipelines['full']\n",
    "    .named_steps['classify']\n",
    "    )\n",
    "\n",
    "gene_coefficients_for_full = get_genes_coefficients(\n",
    "    pca_object=pca_for_full,\n",
    "    classifier_object=classifier_for_full,\n",
    "    expression_df=expression_df,\n",
    "    expression_genes_df=expression_genes_df,\n",
    "    num_covariates=len(covariate_df.columns)\n",
    "    )\n",
    "\n",
    "gene_coefficients_for_full.head(10)"
   ]
  },
  {
   "cell_type": "markdown",
   "metadata": {},
   "source": [
    "### Top coefficients for individual genes for expression model"
   ]
  },
  {
   "cell_type": "code",
   "execution_count": 27,
   "metadata": {},
   "outputs": [
    {
     "data": {
      "text/html": [
       "<div>\n",
       "<style scoped>\n",
       "    .dataframe tbody tr th:only-of-type {\n",
       "        vertical-align: middle;\n",
       "    }\n",
       "\n",
       "    .dataframe tbody tr th {\n",
       "        vertical-align: top;\n",
       "    }\n",
       "\n",
       "    .dataframe thead th {\n",
       "        text-align: right;\n",
       "    }\n",
       "</style>\n",
       "<table border=\"1\" class=\"dataframe\">\n",
       "  <thead>\n",
       "    <tr style=\"text-align: right;\">\n",
       "      <th></th>\n",
       "      <th>symbol</th>\n",
       "      <th>weight</th>\n",
       "      <th>abs</th>\n",
       "      <th>description</th>\n",
       "    </tr>\n",
       "    <tr>\n",
       "      <th>entrez_id</th>\n",
       "      <th></th>\n",
       "      <th></th>\n",
       "      <th></th>\n",
       "      <th></th>\n",
       "    </tr>\n",
       "  </thead>\n",
       "  <tbody>\n",
       "    <tr>\n",
       "      <th>4193</th>\n",
       "      <td>MDM2</td>\n",
       "      <td>-0.007963</td>\n",
       "      <td>0.007963</td>\n",
       "      <td>MDM2 proto-oncogene</td>\n",
       "    </tr>\n",
       "    <tr>\n",
       "      <th>64782</th>\n",
       "      <td>AEN</td>\n",
       "      <td>-0.007532</td>\n",
       "      <td>0.007532</td>\n",
       "      <td>apoptosis enhancing nuclease</td>\n",
       "    </tr>\n",
       "    <tr>\n",
       "      <th>23612</th>\n",
       "      <td>PHLDA3</td>\n",
       "      <td>-0.006923</td>\n",
       "      <td>0.006923</td>\n",
       "      <td>pleckstrin homology like domain family A member 3</td>\n",
       "    </tr>\n",
       "    <tr>\n",
       "      <th>81626</th>\n",
       "      <td>SHCBP1L</td>\n",
       "      <td>-0.006772</td>\n",
       "      <td>0.006772</td>\n",
       "      <td>SHC binding and spindle associated 1 like</td>\n",
       "    </tr>\n",
       "    <tr>\n",
       "      <th>23729</th>\n",
       "      <td>SHPK</td>\n",
       "      <td>-0.006761</td>\n",
       "      <td>0.006761</td>\n",
       "      <td>sedoheptulokinase</td>\n",
       "    </tr>\n",
       "    <tr>\n",
       "      <th>1819</th>\n",
       "      <td>DRG2</td>\n",
       "      <td>-0.006531</td>\n",
       "      <td>0.006531</td>\n",
       "      <td>developmentally regulated GTP binding protein 2</td>\n",
       "    </tr>\n",
       "    <tr>\n",
       "      <th>1643</th>\n",
       "      <td>DDB2</td>\n",
       "      <td>-0.006412</td>\n",
       "      <td>0.006412</td>\n",
       "      <td>damage specific DNA binding protein 2</td>\n",
       "    </tr>\n",
       "    <tr>\n",
       "      <th>132671</th>\n",
       "      <td>SPATA18</td>\n",
       "      <td>-0.006327</td>\n",
       "      <td>0.006327</td>\n",
       "      <td>spermatogenesis associated 18</td>\n",
       "    </tr>\n",
       "    <tr>\n",
       "      <th>60401</th>\n",
       "      <td>EDA2R</td>\n",
       "      <td>-0.006180</td>\n",
       "      <td>0.006180</td>\n",
       "      <td>ectodysplasin A2 receptor</td>\n",
       "    </tr>\n",
       "    <tr>\n",
       "      <th>7157</th>\n",
       "      <td>TP53</td>\n",
       "      <td>-0.006111</td>\n",
       "      <td>0.006111</td>\n",
       "      <td>tumor protein p53</td>\n",
       "    </tr>\n",
       "  </tbody>\n",
       "</table>\n",
       "</div>"
      ],
      "text/plain": [
       "            symbol    weight       abs  \\\n",
       "entrez_id                                \n",
       "4193          MDM2 -0.007963  0.007963   \n",
       "64782          AEN -0.007532  0.007532   \n",
       "23612       PHLDA3 -0.006923  0.006923   \n",
       "81626      SHCBP1L -0.006772  0.006772   \n",
       "23729         SHPK -0.006761  0.006761   \n",
       "1819          DRG2 -0.006531  0.006531   \n",
       "1643          DDB2 -0.006412  0.006412   \n",
       "132671     SPATA18 -0.006327  0.006327   \n",
       "60401        EDA2R -0.006180  0.006180   \n",
       "7157          TP53 -0.006111  0.006111   \n",
       "\n",
       "                                                 description  \n",
       "entrez_id                                                     \n",
       "4193                                     MDM2 proto-oncogene  \n",
       "64782                           apoptosis enhancing nuclease  \n",
       "23612      pleckstrin homology like domain family A member 3  \n",
       "81626              SHC binding and spindle associated 1 like  \n",
       "23729                                      sedoheptulokinase  \n",
       "1819         developmentally regulated GTP binding protein 2  \n",
       "1643                   damage specific DNA binding protein 2  \n",
       "132671                         spermatogenesis associated 18  \n",
       "60401                              ectodysplasin A2 receptor  \n",
       "7157                                       tumor protein p53  "
      ]
     },
     "execution_count": 27,
     "metadata": {},
     "output_type": "execute_result"
    }
   ],
   "source": [
    "pca_for_expression = (\n",
    "    final_pipelines['expressions']\n",
    "    .named_steps['features']\n",
    "    .get_params()['expressions__pca']\n",
    "    )\n",
    "\n",
    "classifier_for_expression = (\n",
    "    final_pipelines['expressions']\n",
    "    .named_steps['classify']\n",
    "    )\n",
    "\n",
    "gene_coefficients_for_expression = get_genes_coefficients(\n",
    "    pca_object=pca_for_expression,\n",
    "    classifier_object=classifier_for_expression,\n",
    "    expression_df=expression_df,\n",
    "    expression_genes_df=expression_genes_df\n",
    "    )\n",
    "\n",
    "gene_coefficients_for_expression.head(10)"
   ]
  },
  {
   "cell_type": "markdown",
   "metadata": {},
   "source": [
    "### 5B) Investigate sample scores\n",
    "\n",
    "We can use the classifier to score individual samples. The classifier assigns a score indicating the probability the sample has a mutation in the given input gene. We can use these scores to investigate tumors in which the mutation was not actually observed but have high scores. "
   ]
  },
  {
   "cell_type": "code",
   "execution_count": 28,
   "metadata": {
    "scrolled": false
   },
   "outputs": [],
   "source": [
    "predict_df = pd.DataFrame()\n",
    "for model, pipeline in final_pipelines.items():\n",
    "    df = pd.DataFrame.from_items([\n",
    "        ('feature_set', model),\n",
    "        ('sample_id', X.index),\n",
    "        ('test_set', X.index.isin(X_test.index).astype(int)),\n",
    "        ('status', y),\n",
    "        ('decision_function', pipeline.decision_function(X)),\n",
    "        ('probability', pipeline.predict_proba(X)[:, 1])\n",
    "    ])    \n",
    "    predict_df = predict_df.append(df)\n",
    "\n",
    "predict_df['probability_str'] = predict_df['probability'].apply('{:.1%}'.format)"
   ]
  },
  {
   "cell_type": "code",
   "execution_count": 29,
   "metadata": {},
   "outputs": [
    {
     "data": {
      "text/html": [
       "<div>\n",
       "<style scoped>\n",
       "    .dataframe tbody tr th:only-of-type {\n",
       "        vertical-align: middle;\n",
       "    }\n",
       "\n",
       "    .dataframe tbody tr th {\n",
       "        vertical-align: top;\n",
       "    }\n",
       "\n",
       "    .dataframe thead th {\n",
       "        text-align: right;\n",
       "    }\n",
       "</style>\n",
       "<table border=\"1\" class=\"dataframe\">\n",
       "  <thead>\n",
       "    <tr style=\"text-align: right;\">\n",
       "      <th></th>\n",
       "      <th>feature_set</th>\n",
       "      <th>sample_id</th>\n",
       "      <th>test_set</th>\n",
       "      <th>status</th>\n",
       "      <th>decision_function</th>\n",
       "      <th>probability</th>\n",
       "      <th>probability_str</th>\n",
       "    </tr>\n",
       "    <tr>\n",
       "      <th>sample_id</th>\n",
       "      <th></th>\n",
       "      <th></th>\n",
       "      <th></th>\n",
       "      <th></th>\n",
       "      <th></th>\n",
       "      <th></th>\n",
       "      <th></th>\n",
       "    </tr>\n",
       "  </thead>\n",
       "  <tbody>\n",
       "    <tr>\n",
       "      <th>TCGA-22-4591-01</th>\n",
       "      <td>full</td>\n",
       "      <td>TCGA-22-4591-01</td>\n",
       "      <td>1</td>\n",
       "      <td>0</td>\n",
       "      <td>6.410345</td>\n",
       "      <td>0.998358</td>\n",
       "      <td>99.8%</td>\n",
       "    </tr>\n",
       "    <tr>\n",
       "      <th>TCGA-L5-A4OH-01</th>\n",
       "      <td>full</td>\n",
       "      <td>TCGA-L5-A4OH-01</td>\n",
       "      <td>0</td>\n",
       "      <td>0</td>\n",
       "      <td>6.209589</td>\n",
       "      <td>0.997994</td>\n",
       "      <td>99.8%</td>\n",
       "    </tr>\n",
       "    <tr>\n",
       "      <th>TCGA-21-1081-01</th>\n",
       "      <td>full</td>\n",
       "      <td>TCGA-21-1081-01</td>\n",
       "      <td>0</td>\n",
       "      <td>0</td>\n",
       "      <td>5.699089</td>\n",
       "      <td>0.996662</td>\n",
       "      <td>99.7%</td>\n",
       "    </tr>\n",
       "    <tr>\n",
       "      <th>TCGA-EI-6513-01</th>\n",
       "      <td>full</td>\n",
       "      <td>TCGA-EI-6513-01</td>\n",
       "      <td>1</td>\n",
       "      <td>0</td>\n",
       "      <td>5.506395</td>\n",
       "      <td>0.995956</td>\n",
       "      <td>99.6%</td>\n",
       "    </tr>\n",
       "    <tr>\n",
       "      <th>TCGA-46-3765-01</th>\n",
       "      <td>full</td>\n",
       "      <td>TCGA-46-3765-01</td>\n",
       "      <td>0</td>\n",
       "      <td>0</td>\n",
       "      <td>5.357991</td>\n",
       "      <td>0.995312</td>\n",
       "      <td>99.5%</td>\n",
       "    </tr>\n",
       "    <tr>\n",
       "      <th>TCGA-L5-A8NR-01</th>\n",
       "      <td>full</td>\n",
       "      <td>TCGA-L5-A8NR-01</td>\n",
       "      <td>0</td>\n",
       "      <td>0</td>\n",
       "      <td>5.151024</td>\n",
       "      <td>0.994240</td>\n",
       "      <td>99.4%</td>\n",
       "    </tr>\n",
       "    <tr>\n",
       "      <th>TCGA-CV-7261-01</th>\n",
       "      <td>full</td>\n",
       "      <td>TCGA-CV-7261-01</td>\n",
       "      <td>0</td>\n",
       "      <td>0</td>\n",
       "      <td>4.898452</td>\n",
       "      <td>0.992597</td>\n",
       "      <td>99.3%</td>\n",
       "    </tr>\n",
       "    <tr>\n",
       "      <th>TCGA-20-1684-01</th>\n",
       "      <td>full</td>\n",
       "      <td>TCGA-20-1684-01</td>\n",
       "      <td>0</td>\n",
       "      <td>0</td>\n",
       "      <td>4.728480</td>\n",
       "      <td>0.991238</td>\n",
       "      <td>99.1%</td>\n",
       "    </tr>\n",
       "    <tr>\n",
       "      <th>TCGA-B6-A0I6-01</th>\n",
       "      <td>full</td>\n",
       "      <td>TCGA-B6-A0I6-01</td>\n",
       "      <td>0</td>\n",
       "      <td>0</td>\n",
       "      <td>4.700770</td>\n",
       "      <td>0.990994</td>\n",
       "      <td>99.1%</td>\n",
       "    </tr>\n",
       "    <tr>\n",
       "      <th>TCGA-BA-5149-01</th>\n",
       "      <td>full</td>\n",
       "      <td>TCGA-BA-5149-01</td>\n",
       "      <td>0</td>\n",
       "      <td>0</td>\n",
       "      <td>4.696354</td>\n",
       "      <td>0.990954</td>\n",
       "      <td>99.1%</td>\n",
       "    </tr>\n",
       "  </tbody>\n",
       "</table>\n",
       "</div>"
      ],
      "text/plain": [
       "                feature_set        sample_id  test_set  status  \\\n",
       "sample_id                                                        \n",
       "TCGA-22-4591-01        full  TCGA-22-4591-01         1       0   \n",
       "TCGA-L5-A4OH-01        full  TCGA-L5-A4OH-01         0       0   \n",
       "TCGA-21-1081-01        full  TCGA-21-1081-01         0       0   \n",
       "TCGA-EI-6513-01        full  TCGA-EI-6513-01         1       0   \n",
       "TCGA-46-3765-01        full  TCGA-46-3765-01         0       0   \n",
       "TCGA-L5-A8NR-01        full  TCGA-L5-A8NR-01         0       0   \n",
       "TCGA-CV-7261-01        full  TCGA-CV-7261-01         0       0   \n",
       "TCGA-20-1684-01        full  TCGA-20-1684-01         0       0   \n",
       "TCGA-B6-A0I6-01        full  TCGA-B6-A0I6-01         0       0   \n",
       "TCGA-BA-5149-01        full  TCGA-BA-5149-01         0       0   \n",
       "\n",
       "                 decision_function  probability probability_str  \n",
       "sample_id                                                        \n",
       "TCGA-22-4591-01           6.410345     0.998358           99.8%  \n",
       "TCGA-L5-A4OH-01           6.209589     0.997994           99.8%  \n",
       "TCGA-21-1081-01           5.699089     0.996662           99.7%  \n",
       "TCGA-EI-6513-01           5.506395     0.995956           99.6%  \n",
       "TCGA-46-3765-01           5.357991     0.995312           99.5%  \n",
       "TCGA-L5-A8NR-01           5.151024     0.994240           99.4%  \n",
       "TCGA-CV-7261-01           4.898452     0.992597           99.3%  \n",
       "TCGA-20-1684-01           4.728480     0.991238           99.1%  \n",
       "TCGA-B6-A0I6-01           4.700770     0.990994           99.1%  \n",
       "TCGA-BA-5149-01           4.696354     0.990954           99.1%  "
      ]
     },
     "execution_count": 29,
     "metadata": {},
     "output_type": "execute_result"
    }
   ],
   "source": [
    "# Top predictions amongst negatives (potential hidden responders to a targeted cancer therapy)\n",
    "(predict_df\n",
    "    .sort_values('decision_function', ascending=False)\n",
    "    .query(\"status == 0 and feature_set == 'full'\")\n",
    "    .head(10)\n",
    ")"
   ]
  },
  {
   "cell_type": "code",
   "execution_count": 30,
   "metadata": {},
   "outputs": [
    {
     "data": {
      "image/png": "[encoded data removed]",
      "text/plain": [
       "<matplotlib.figure.Figure at 0x7f9e6e43eeb8>"
      ]
     },
     "metadata": {},
     "output_type": "display_data"
    },
    {
     "data": {
      "text/plain": [
       "<ggplot: (8769900154344)>"
      ]
     },
     "execution_count": 30,
     "metadata": {},
     "output_type": "execute_result"
    }
   ],
   "source": [
    "# What is the distribution of probability assignments versus ground truth mutation status\n",
    "predict_df['status_'] = predict_df['status'].map(\n",
    "    lambda x: 'negative' if x == 0 else 'positive')\n",
    "\n",
    "(gg.ggplot(predict_df, gg.aes(x='probability', \n",
    "                              fill='status_'))\n",
    " + gg.geom_density(alpha=0.6)\n",
    " + gg.facet_wrap('~feature_set', ncol=1)\n",
    " + gg.labs(x='probability', y='density')\n",
    " + gg.guides(fill=gg.guide_legend(title=\"\"))\n",
    " + theme_cognoma())"
   ]
  }
 ],
 "metadata": {
  "kernelspec": {
   "display_name": "Python [default]",
   "language": "python",
   "name": "python3"
  },
  "language_info": {
   "codemirror_mode": {
    "name": "ipython",
    "version": 3
   },
   "file_extension": ".py",
   "mimetype": "text/x-python",
   "name": "python",
   "nbconvert_exporter": "python",
   "pygments_lexer": "ipython3",
   "version": "3.5.5"
  }
 },
 "nbformat": 4,
 "nbformat_minor": 1
}
