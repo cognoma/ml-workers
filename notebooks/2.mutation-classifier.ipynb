{
 "cells": [
  {
   "cell_type": "markdown",
   "metadata": {},
   "source": [
    "# Create a logistic regression model to predict mutation from gene expression data in TCGA"
   ]
  },
  {
   "cell_type": "code",
   "execution_count": 1,
   "metadata": {},
   "outputs": [
    {
     "name": "stderr",
     "output_type": "stream",
     "text": [
      "C:\\Users\\rvelazquez\\AppData\\Local\\Continuum\\Anaconda3\\envs\\cognoma-machine-learning\\lib\\site-packages\\statsmodels\\compat\\pandas.py:56: FutureWarning: The pandas.core.datetools module is deprecated and will be removed in a future version. Please use the pandas.tseries module instead.\n",
      "  from pandas.core import datetools\n"
     ]
    }
   ],
   "source": [
    "import datetime\n",
    "import os\n",
    "import time\n",
    "\n",
    "from sklearn.decomposition import PCA\n",
    "from sklearn.linear_model import SGDClassifier\n",
    "from sklearn.metrics import roc_auc_score, roc_curve\n",
    "from sklearn.model_selection import train_test_split, StratifiedKFold\n",
    "from dask_searchcv import GridSearchCV\n",
    "from sklearn.pipeline import Pipeline, FeatureUnion\n",
    "from sklearn.preprocessing import StandardScaler, FunctionTransformer\n",
    "import numpy as np\n",
    "import pandas as pd\n",
    "import plotnine as gg\n",
    "\n",
    "from utils import get_model_coefficients, get_genes_coefficients, theme_cognoma"
   ]
  },
  {
   "cell_type": "code",
   "execution_count": 2,
   "metadata": {
    "collapsed": true
   },
   "outputs": [],
   "source": [
    "%matplotlib inline"
   ]
  },
  {
   "cell_type": "markdown",
   "metadata": {},
   "source": [
    "## Specify model configuration"
   ]
  },
  {
   "cell_type": "code",
   "execution_count": 3,
   "metadata": {},
   "outputs": [
    {
     "name": "stdout",
     "output_type": "stream",
     "text": [
      "Genes: ['7157']\n",
      "Diseases: None\n"
     ]
    }
   ],
   "source": [
    "# We're going to be building a classifier with multiple genes filtered by two diseases \n",
    "# Example:\n",
    "# gene_ids = ['7157', '7158', '7159', '7161']\n",
    "\n",
    "# Information passed into the notebook is stored in environment variables\n",
    "gene_ids = os.environ.get('gene_ids')\n",
    "if not gene_ids:\n",
    "    gene_ids = ['7157'] # TP53 is the default\n",
    "else:\n",
    "    gene_ids = gene_ids.split('-')\n",
    "    \n",
    "disease_acronyms = os.environ.get('disease_acronyms')\n",
    "\n",
    "if not disease_acronyms:\n",
    "    disease_acronyms = None # use all of the diseases as default\n",
    "    # disease_acronyms = ['LUAD', 'BLCA']\n",
    "else:\n",
    "    disease_acronyms = disease_acronyms.split('-')\n",
    "    \n",
    "print(\"Genes: \" + str(gene_ids))\n",
    "print(\"Diseases: \" + str(disease_acronyms))"
   ]
  },
  {
   "cell_type": "markdown",
   "metadata": {},
   "source": [
    "*Here is some [documentation](http://scikit-learn.org/stable/modules/generated/sklearn.linear_model.SGDClassifier.html) regarding the classifier and hyperparameters*\n",
    "\n",
    "*Here is some [information](https://ghr.nlm.nih.gov/gene) about the genes*"
   ]
  },
  {
   "cell_type": "markdown",
   "metadata": {},
   "source": [
    "## Load Data"
   ]
  },
  {
   "cell_type": "code",
   "execution_count": 4,
   "metadata": {
    "collapsed": true
   },
   "outputs": [],
   "source": [
    "path = os.path.join('download', 'expression-matrix.tsv.bz2')\n",
    "expression_df = pd.read_table(path, index_col=0)\n",
    "\n",
    "path = os.path.join('download', 'mutation-matrix.tsv.bz2')\n",
    "mutation_df = pd.read_table(path, index_col=0)\n",
    "\n",
    "path = os.path.join('download', 'covariates.tsv')\n",
    "covariate_df = pd.read_table(path, index_col=0)\n",
    "\n",
    "path = os.path.join('download', 'expression-genes.tsv')\n",
    "expression_genes_df = pd.read_table(path, index_col=0)"
   ]
  },
  {
   "cell_type": "code",
   "execution_count": 5,
   "metadata": {
    "collapsed": true
   },
   "outputs": [],
   "source": [
    "# Select acronym_x and n_mutations_log1p covariates only\n",
    "disease_cols = [col for col in covariate_df.columns if col.startswith('acronym_')]\n",
    "\n",
    "# Filter covariate columns by disease if a list was provided\n",
    "if disease_acronyms:\n",
    "    disease_cols = [col for col in disease_cols if col.endswith(tuple(disease_acronyms))]\n",
    "    \n",
    "selected_cols = disease_cols + ['n_mutations_log1p']\n",
    "covariate_df = covariate_df[selected_cols]"
   ]
  },
  {
   "cell_type": "code",
   "execution_count": 6,
   "metadata": {
    "collapsed": true
   },
   "outputs": [],
   "source": [
    "# Filter the rows by disease type\n",
    "# subsection of columns with row-wise max\n",
    "has_disease = covariate_df[disease_cols].max(axis=1) > 0\n",
    "covariate_df = covariate_df[has_disease]"
   ]
  },
  {
   "cell_type": "code",
   "execution_count": 7,
   "metadata": {
    "collapsed": true
   },
   "outputs": [],
   "source": [
    "# filter by sample_id\n",
    "expression_df = expression_df[expression_df.index.isin(covariate_df.index)]\n",
    "\n",
    "# filter by sample_id\n",
    "mutation_df = mutation_df[mutation_df.index.isin(covariate_df.index)]"
   ]
  },
  {
   "cell_type": "code",
   "execution_count": 8,
   "metadata": {},
   "outputs": [
    {
     "data": {
      "text/plain": [
       "sample_id\n",
       "TCGA-02-0047-01    0\n",
       "TCGA-02-0055-01    1\n",
       "TCGA-02-2483-01    1\n",
       "TCGA-02-2485-01    1\n",
       "TCGA-02-2486-01    0\n",
       "TCGA-04-1348-01    1\n",
       "dtype: int64"
      ]
     },
     "execution_count": 8,
     "metadata": {},
     "output_type": "execute_result"
    }
   ],
   "source": [
    "# The series holds Gene Mutation Status for each sample\n",
    "# Take max of mutation status, meaning if any of the genes mutated the value should be 1\n",
    "y = mutation_df[gene_ids].max(axis=1)\n",
    "y.head(6)"
   ]
  },
  {
   "cell_type": "code",
   "execution_count": 9,
   "metadata": {},
   "outputs": [
    {
     "name": "stdout",
     "output_type": "stream",
     "text": [
      "Gene expression matrix shape: (7306, 20468)\n",
      "Covariates matrix shape: (7306, 33)\n"
     ]
    }
   ],
   "source": [
    "print('Gene expression matrix shape: {}'.format(expression_df.shape))\n",
    "print('Covariates matrix shape: {}'.format(covariate_df.shape))"
   ]
  },
  {
   "cell_type": "markdown",
   "metadata": {},
   "source": [
    "## Set aside 10% of the data for testing"
   ]
  },
  {
   "cell_type": "code",
   "execution_count": 10,
   "metadata": {},
   "outputs": [
    {
     "data": {
      "text/plain": [
       "0    0.645907\n",
       "1    0.354093\n",
       "dtype: float64"
      ]
     },
     "execution_count": 10,
     "metadata": {},
     "output_type": "execute_result"
    }
   ],
   "source": [
    "# Typically, this type of split can only be done \n",
    "# for genes where the number of mutations is large enough\n",
    "X = pd.concat([covariate_df, expression_df], axis='columns')\n",
    "X_train, X_test, y_train, y_test = train_test_split(X, y, stratify=y, test_size=0.1, random_state=0)\n",
    "\n",
    "# Here are the percentage of tumors with TP53\n",
    "y.value_counts(True)"
   ]
  },
  {
   "cell_type": "markdown",
   "metadata": {},
   "source": [
    "## Feature selection"
   ]
  },
  {
   "cell_type": "code",
   "execution_count": 11,
   "metadata": {
    "collapsed": true
   },
   "outputs": [],
   "source": [
    "def select_feature_set_columns(X, feature_set):\n",
    "    \"\"\"\n",
    "    Select the feature set for the different models within the pipeline\n",
    "    \"\"\"\n",
    "    n_covariates = len(covariate_df.columns)\n",
    "    if feature_set == 'covariates':\n",
    "        return X[:, :n_covariates]\n",
    "    if feature_set == 'expressions':\n",
    "        return X[:, n_covariates:]\n",
    "    raise ValueError('feature_set not supported: {}'.format(feature_set))\n",
    "\n",
    "# Creates the expression features by standarizing them and running PCA\n",
    "# Because the expressions matrix is so large, we preprocess with PCA\n",
    "# The amount of variance in the data captured by ~100 components is high\n",
    "expression_features = Pipeline([\n",
    "    ('select_features', FunctionTransformer(select_feature_set_columns,\n",
    "        kw_args={'feature_set': 'expressions'})),\n",
    "    ('standardize', StandardScaler()),\n",
    "    ('pca', PCA())\n",
    "])\n",
    "\n",
    "# Creates the covariate features by selecting and standardizing them\n",
    "covariate_features = Pipeline([\n",
    "    ('select_features', FunctionTransformer(select_feature_set_columns,\n",
    "        kw_args={'feature_set': 'covariates'})),\n",
    "    ('standardize', StandardScaler())\n",
    "])"
   ]
  },
  {
   "cell_type": "markdown",
   "metadata": {},
   "source": [
    "## Elastic net classifier and model paraemeters"
   ]
  },
  {
   "cell_type": "code",
   "execution_count": 12,
   "metadata": {
    "collapsed": true
   },
   "outputs": [],
   "source": [
    "# Parameter Sweep for Hyperparameters\n",
    "regularization_alpha_list = [10 ** x for x in range(-10, 10)]\n",
    "# Chose n_components based on number of positives (or negatives, if that is less)\n",
    "min_class_size = min(y.sum(), len(y) - y.sum())\n",
    "if min_class_size > 500:\n",
    "    n_components_list = [100]\n",
    "elif min_class_size > 250:\n",
    "    n_components_list = [50]\n",
    "else:\n",
    "    n_components_list = [30]\n",
    "\n",
    "param_grids = {\n",
    "    'full': {\n",
    "        'features__expressions__pca__n_components' : n_components_list,\n",
    "        'classify__alpha': regularization_alpha_list\n",
    "    },\n",
    "    'expressions': {\n",
    "        'features__expressions__pca__n_components' : n_components_list,\n",
    "        'classify__alpha': regularization_alpha_list\n",
    "    },\n",
    "    'covariates': {\n",
    "        'classify__alpha': regularization_alpha_list\n",
    "    }\n",
    "}\n",
    "\n",
    "# Classifier: Elastic Net\n",
    "classifier = SGDClassifier(penalty='elasticnet',\n",
    "                           l1_ratio=0,\n",
    "                           loss='log', \n",
    "                           class_weight='balanced',\n",
    "                           random_state=0)"
   ]
  },
  {
   "cell_type": "markdown",
   "metadata": {},
   "source": [
    "## Define pipeline and cross validation"
   ]
  },
  {
   "cell_type": "code",
   "execution_count": 13,
   "metadata": {
    "collapsed": true
   },
   "outputs": [],
   "source": [
    "# Full model pipelines\n",
    "pipeline_definitions = {\n",
    "    'full': Pipeline([\n",
    "        ('features', FeatureUnion([\n",
    "            ('expressions', expression_features),\n",
    "            ('covariates', covariate_features)\n",
    "        ])),\n",
    "        ('classify', classifier)\n",
    "    ]),\n",
    "    'expressions': Pipeline([\n",
    "        ('features', FeatureUnion([('expressions', expression_features)])),\n",
    "        ('classify', classifier)\n",
    "    ]),\n",
    "    'covariates': Pipeline([\n",
    "        ('features', FeatureUnion([('covariates', covariate_features)])),\n",
    "        ('classify', classifier)\n",
    "    ])\n",
    "}\n",
    "\n",
    "# Construct cross-validated grid searches\n",
    "cv_pipelines = dict()\n",
    "for model, pipeline in pipeline_definitions.items():\n",
    "    cv = StratifiedKFold(n_splits=3, random_state=0)\n",
    "    grid_search = GridSearchCV(\n",
    "        estimator=pipeline,\n",
    "        param_grid=param_grids[model],\n",
    "        cv=cv,\n",
    "        n_jobs=1, \n",
    "        scoring='roc_auc',\n",
    "    )\n",
    "    cv_pipelines[model] = grid_search"
   ]
  },
  {
   "cell_type": "code",
   "execution_count": 14,
   "metadata": {},
   "outputs": [
    {
     "name": "stdout",
     "output_type": "stream",
     "text": [
      "Fitting CV for model: expressions\n",
      "\truntime: 0:06:26.144749\n",
      "Fitting CV for model: full\n",
      "\truntime: 0:06:05.821173\n",
      "Fitting CV for model: covariates\n",
      "\truntime: 0:01:04.474832\n"
     ]
    }
   ],
   "source": [
    "# Fit the models\n",
    "for model, pipeline in cv_pipelines.items():\n",
    "    print('Fitting CV for model: {0}'.format(model))\n",
    "    start_time = time.perf_counter()\n",
    "    pipeline.fit(X=X_train, y=y_train)\n",
    "    end_time = time.perf_counter()\n",
    "    elapsed = datetime.timedelta(seconds=end_time - start_time)\n",
    "    print('\\truntime: {}'.format(elapsed))"
   ]
  },
  {
   "cell_type": "code",
   "execution_count": 15,
   "metadata": {},
   "outputs": [
    {
     "name": "stdout",
     "output_type": "stream",
     "text": [
      "# expressions\n",
      "{'features__expressions__pca__n_components': 100, 'classify__alpha': 1}\n",
      "cv_auroc = 91.512%\n",
      "# full\n",
      "{'features__expressions__pca__n_components': 100, 'classify__alpha': 1}\n",
      "cv_auroc = 91.607%\n",
      "# covariates\n",
      "{'classify__alpha': 0.01}\n",
      "cv_auroc = 84.097%\n"
     ]
    }
   ],
   "source": [
    "# Best Parameters\n",
    "for model, pipeline in cv_pipelines.items():\n",
    "    print('#', model)\n",
    "    print(pipeline.best_params_)\n",
    "    print('cv_auroc = {:.3%}'.format(pipeline.best_score_))"
   ]
  },
  {
   "cell_type": "markdown",
   "metadata": {},
   "source": [
    "## Visualize hyperparameters performance"
   ]
  },
  {
   "cell_type": "code",
   "execution_count": 16,
   "metadata": {
    "collapsed": true
   },
   "outputs": [],
   "source": [
    "cv_results_df = pd.DataFrame()\n",
    "for model, pipeline in cv_pipelines.items():\n",
    "    df = pd.concat([\n",
    "        pd.DataFrame(pipeline.cv_results_),\n",
    "        pd.DataFrame.from_records(pipeline.cv_results_['params'])\n",
    "    ], axis='columns')\n",
    "    df['feature_set'] = model\n",
    "    cv_results_df = cv_results_df.append(df)\n",
    "    \n",
    "cv_results_summary = (cv_results_df\n",
    "    .groupby(['classify__alpha', 'feature_set'])['mean_test_score']\n",
    "    .max()\n",
    "    .reset_index())"
   ]
  },
  {
   "cell_type": "code",
   "execution_count": 17,
   "metadata": {},
   "outputs": [
    {
     "data": {
      "image/png": "[encoded data removed]",
      "text/plain": [
       "<matplotlib.figure.Figure at 0x1120bcc0>"
      ]
     },
     "metadata": {},
     "output_type": "display_data"
    },
    {
     "data": {
      "text/plain": [
       "<ggplot: (29159709)>"
      ]
     },
     "execution_count": 17,
     "metadata": {},
     "output_type": "execute_result"
    }
   ],
   "source": [
    "(gg.ggplot(cv_results_summary, gg.aes(x='classify__alpha',\n",
    "                                      y='mean_test_score',\n",
    "                                      color='feature_set'))\n",
    " + gg.geom_jitter(size=4, alpha=0.8, height=0, width=0.05)\n",
    " + gg.scale_x_log10()\n",
    " + gg.labs(x='Regularization strength multiplier (log alpha)',\n",
    "           y='CV AUROC')\n",
    " + gg.guides(fill=gg.guide_legend(title=\"Feature Set\"))\n",
    " + gg.aes(ymin=min([0.5, cv_results_summary['mean_test_score'].min()]), ymax=1)\n",
    " + theme_cognoma()\n",
    ")"
   ]
  },
  {
   "cell_type": "markdown",
   "metadata": {},
   "source": [
    "## Use optimal hyperparameters to output ROC curve"
   ]
  },
  {
   "cell_type": "code",
   "execution_count": 18,
   "metadata": {
    "collapsed": true
   },
   "outputs": [],
   "source": [
    "y_pred_dict = {\n",
    "    model: {\n",
    "        'train': pipeline.decision_function(X_train),\n",
    "        'test':  pipeline.decision_function(X_test)\n",
    "    } for model, pipeline in cv_pipelines.items()\n",
    "}\n",
    "\n",
    "def get_threshold_metrics(y_true, y_pred):\n",
    "    roc_columns = ['fpr', 'tpr', 'threshold']\n",
    "    roc_items = zip(roc_columns, roc_curve(y_true, y_pred))\n",
    "    roc_df = pd.DataFrame.from_items(roc_items)\n",
    "    auroc = roc_auc_score(y_true, y_pred)\n",
    "    return {'auroc': auroc, 'roc_df': roc_df}\n",
    "\n",
    "metrics_dict = {    \n",
    "    model: {\n",
    "        'train': get_threshold_metrics(y_train, y_pred_dict[model]['train']),\n",
    "        'test':  get_threshold_metrics(y_test, y_pred_dict[model]['test'])\n",
    "    } for model in y_pred_dict.keys()\n",
    "}"
   ]
  },
  {
   "cell_type": "code",
   "execution_count": 19,
   "metadata": {},
   "outputs": [
    {
     "data": {
      "image/png": "[encoded data removed]",
      "text/plain": [
       "<matplotlib.figure.Figure at 0x63e3fef0>"
      ]
     },
     "metadata": {},
     "output_type": "display_data"
    },
    {
     "data": {
      "text/plain": [
       "<ggplot: (8634916)>"
      ]
     },
     "execution_count": 19,
     "metadata": {},
     "output_type": "execute_result"
    }
   ],
   "source": [
    "# Assemble the data for ROC curves\n",
    "model_order = ['full', 'expressions', 'covariates']\n",
    "\n",
    "auc_output = pd.DataFrame()\n",
    "roc_output = pd.DataFrame()\n",
    "\n",
    "for model in model_order:\n",
    "    metrics_partition = metrics_dict[model]\n",
    "    for partition, metrics in metrics_partition.items():\n",
    "        auc_output = auc_output.append(pd.DataFrame({\n",
    "            'partition': [partition],\n",
    "            'feature_set': [model],\n",
    "            'auc': metrics['auroc'].round(3)\n",
    "        }))\n",
    "        roc_df = metrics['roc_df']\n",
    "        roc_output = roc_output.append(pd.DataFrame({\n",
    "            'false_positive_rate': roc_df.fpr,\n",
    "            'true_positive_rate': roc_df.tpr,\n",
    "            'partition': partition,\n",
    "            'feature_set': model\n",
    "        }))\n",
    "\n",
    "(gg.ggplot(roc_output, gg.aes(x='false_positive_rate',\n",
    "                              y='true_positive_rate',\n",
    "                              color='feature_set',\n",
    "                              linetype='partition'))\n",
    " + gg.geom_line(size=1.1, alpha=0.7)\n",
    " + gg.labs(x='false positive rate', y='true positive rate')\n",
    " + theme_cognoma()\n",
    ")"
   ]
  },
  {
   "cell_type": "markdown",
   "metadata": {},
   "source": [
    "### AUROC"
   ]
  },
  {
   "cell_type": "code",
   "execution_count": 20,
   "metadata": {},
   "outputs": [
    {
     "data": {
      "text/html": [
       "<div>\n",
       "<style>\n",
       "    .dataframe thead tr:only-child th {\n",
       "        text-align: right;\n",
       "    }\n",
       "\n",
       "    .dataframe thead th {\n",
       "        text-align: left;\n",
       "    }\n",
       "\n",
       "    .dataframe tbody tr th {\n",
       "        vertical-align: top;\n",
       "    }\n",
       "</style>\n",
       "<table border=\"1\" class=\"dataframe\">\n",
       "  <thead>\n",
       "    <tr style=\"text-align: right;\">\n",
       "      <th>partition</th>\n",
       "      <th>test</th>\n",
       "      <th>train</th>\n",
       "    </tr>\n",
       "    <tr>\n",
       "      <th>feature_set</th>\n",
       "      <th></th>\n",
       "      <th></th>\n",
       "    </tr>\n",
       "  </thead>\n",
       "  <tbody>\n",
       "    <tr>\n",
       "      <th>covariates</th>\n",
       "      <td>0.853</td>\n",
       "      <td>0.844</td>\n",
       "    </tr>\n",
       "    <tr>\n",
       "      <th>expressions</th>\n",
       "      <td>0.911</td>\n",
       "      <td>0.914</td>\n",
       "    </tr>\n",
       "    <tr>\n",
       "      <th>full</th>\n",
       "      <td>0.911</td>\n",
       "      <td>0.915</td>\n",
       "    </tr>\n",
       "  </tbody>\n",
       "</table>\n",
       "</div>"
      ],
      "text/plain": [
       "partition     test  train\n",
       "feature_set              \n",
       "covariates   0.853  0.844\n",
       "expressions  0.911  0.914\n",
       "full         0.911  0.915"
      ]
     },
     "execution_count": 20,
     "metadata": {},
     "output_type": "execute_result"
    }
   ],
   "source": [
    "pd.pivot_table(auc_output,\n",
    "               values='auc',\n",
    "               index='feature_set',\n",
    "               columns='partition')"
   ]
  },
  {
   "cell_type": "markdown",
   "metadata": {},
   "source": [
    "## What are the classifier coefficients?"
   ]
  },
  {
   "cell_type": "code",
   "execution_count": 21,
   "metadata": {
    "collapsed": true
   },
   "outputs": [],
   "source": [
    "final_pipelines = {\n",
    "    model: pipeline.best_estimator_\n",
    "    for model, pipeline in cv_pipelines.items()\n",
    "}\n",
    "final_classifiers = {\n",
    "    model: pipeline.named_steps['classify']\n",
    "    for model, pipeline in final_pipelines.items()\n",
    "}\n",
    "\n",
    "coef_df = pd.concat([\n",
    "    get_model_coefficients(classifier, model, covariate_df.columns)\n",
    "    for model, classifier in final_classifiers.items()\n",
    "])"
   ]
  },
  {
   "cell_type": "code",
   "execution_count": 22,
   "metadata": {},
   "outputs": [
    {
     "data": {
      "text/html": [
       "<div>\n",
       "<style>\n",
       "    .dataframe thead tr:only-child th {\n",
       "        text-align: right;\n",
       "    }\n",
       "\n",
       "    .dataframe thead th {\n",
       "        text-align: left;\n",
       "    }\n",
       "\n",
       "    .dataframe tbody tr th {\n",
       "        vertical-align: top;\n",
       "    }\n",
       "</style>\n",
       "<table border=\"1\" class=\"dataframe\">\n",
       "  <thead>\n",
       "    <tr style=\"text-align: right;\">\n",
       "      <th>coefficient_sign</th>\n",
       "      <th>-1.0</th>\n",
       "      <th>1.0</th>\n",
       "    </tr>\n",
       "    <tr>\n",
       "      <th>feature_set</th>\n",
       "      <th></th>\n",
       "      <th></th>\n",
       "    </tr>\n",
       "  </thead>\n",
       "  <tbody>\n",
       "    <tr>\n",
       "      <th>covariates</th>\n",
       "      <td>17</td>\n",
       "      <td>16</td>\n",
       "    </tr>\n",
       "    <tr>\n",
       "      <th>expressions</th>\n",
       "      <td>49</td>\n",
       "      <td>51</td>\n",
       "    </tr>\n",
       "    <tr>\n",
       "      <th>full</th>\n",
       "      <td>62</td>\n",
       "      <td>71</td>\n",
       "    </tr>\n",
       "  </tbody>\n",
       "</table>\n",
       "</div>"
      ],
      "text/plain": [
       "coefficient_sign  -1.0   1.0\n",
       "feature_set                 \n",
       "covariates          17    16\n",
       "expressions         49    51\n",
       "full                62    71"
      ]
     },
     "execution_count": 22,
     "metadata": {},
     "output_type": "execute_result"
    }
   ],
   "source": [
    "# Signs of the coefficients by model\n",
    "pd.crosstab(coef_df.feature_set, np.sign(coef_df.weight).rename('coefficient_sign'))"
   ]
  },
  {
   "cell_type": "markdown",
   "metadata": {},
   "source": [
    "### Top coefficients for covariates model"
   ]
  },
  {
   "cell_type": "code",
   "execution_count": 23,
   "metadata": {},
   "outputs": [
    {
     "data": {
      "text/html": [
       "<div>\n",
       "<style>\n",
       "    .dataframe thead tr:only-child th {\n",
       "        text-align: right;\n",
       "    }\n",
       "\n",
       "    .dataframe thead th {\n",
       "        text-align: left;\n",
       "    }\n",
       "\n",
       "    .dataframe tbody tr th {\n",
       "        vertical-align: top;\n",
       "    }\n",
       "</style>\n",
       "<table border=\"1\" class=\"dataframe\">\n",
       "  <thead>\n",
       "    <tr style=\"text-align: right;\">\n",
       "      <th></th>\n",
       "      <th>feature</th>\n",
       "      <th>weight</th>\n",
       "      <th>abs</th>\n",
       "      <th>feature_set</th>\n",
       "    </tr>\n",
       "  </thead>\n",
       "  <tbody>\n",
       "    <tr>\n",
       "      <th>34</th>\n",
       "      <td>PCA_34</td>\n",
       "      <td>0.060960</td>\n",
       "      <td>0.060960</td>\n",
       "      <td>full</td>\n",
       "    </tr>\n",
       "    <tr>\n",
       "      <th>29</th>\n",
       "      <td>PCA_29</td>\n",
       "      <td>0.056451</td>\n",
       "      <td>0.056451</td>\n",
       "      <td>full</td>\n",
       "    </tr>\n",
       "    <tr>\n",
       "      <th>87</th>\n",
       "      <td>PCA_87</td>\n",
       "      <td>-0.051578</td>\n",
       "      <td>0.051578</td>\n",
       "      <td>full</td>\n",
       "    </tr>\n",
       "    <tr>\n",
       "      <th>37</th>\n",
       "      <td>PCA_37</td>\n",
       "      <td>-0.042979</td>\n",
       "      <td>0.042979</td>\n",
       "      <td>full</td>\n",
       "    </tr>\n",
       "    <tr>\n",
       "      <th>24</th>\n",
       "      <td>PCA_24</td>\n",
       "      <td>0.038007</td>\n",
       "      <td>0.038007</td>\n",
       "      <td>full</td>\n",
       "    </tr>\n",
       "    <tr>\n",
       "      <th>11</th>\n",
       "      <td>PCA_11</td>\n",
       "      <td>-0.037749</td>\n",
       "      <td>0.037749</td>\n",
       "      <td>full</td>\n",
       "    </tr>\n",
       "    <tr>\n",
       "      <th>2</th>\n",
       "      <td>PCA_2</td>\n",
       "      <td>-0.035994</td>\n",
       "      <td>0.035994</td>\n",
       "      <td>full</td>\n",
       "    </tr>\n",
       "    <tr>\n",
       "      <th>22</th>\n",
       "      <td>PCA_22</td>\n",
       "      <td>-0.035715</td>\n",
       "      <td>0.035715</td>\n",
       "      <td>full</td>\n",
       "    </tr>\n",
       "    <tr>\n",
       "      <th>62</th>\n",
       "      <td>PCA_62</td>\n",
       "      <td>-0.034043</td>\n",
       "      <td>0.034043</td>\n",
       "      <td>full</td>\n",
       "    </tr>\n",
       "    <tr>\n",
       "      <th>57</th>\n",
       "      <td>PCA_57</td>\n",
       "      <td>-0.033934</td>\n",
       "      <td>0.033934</td>\n",
       "      <td>full</td>\n",
       "    </tr>\n",
       "  </tbody>\n",
       "</table>\n",
       "</div>"
      ],
      "text/plain": [
       "   feature    weight       abs feature_set\n",
       "34  PCA_34  0.060960  0.060960        full\n",
       "29  PCA_29  0.056451  0.056451        full\n",
       "87  PCA_87 -0.051578  0.051578        full\n",
       "37  PCA_37 -0.042979  0.042979        full\n",
       "24  PCA_24  0.038007  0.038007        full\n",
       "11  PCA_11 -0.037749  0.037749        full\n",
       "2    PCA_2 -0.035994  0.035994        full\n",
       "22  PCA_22 -0.035715  0.035715        full\n",
       "62  PCA_62 -0.034043  0.034043        full\n",
       "57  PCA_57 -0.033934  0.033934        full"
      ]
     },
     "execution_count": 23,
     "metadata": {},
     "output_type": "execute_result"
    }
   ],
   "source": [
    "coef_df.query(\"feature_set == 'full'\").head(10)"
   ]
  },
  {
   "cell_type": "markdown",
   "metadata": {},
   "source": [
    "### Top coefficients for individual _genes_ for full model"
   ]
  },
  {
   "cell_type": "code",
   "execution_count": 24,
   "metadata": {},
   "outputs": [
    {
     "data": {
      "text/html": [
       "<div>\n",
       "<style>\n",
       "    .dataframe thead tr:only-child th {\n",
       "        text-align: right;\n",
       "    }\n",
       "\n",
       "    .dataframe thead th {\n",
       "        text-align: left;\n",
       "    }\n",
       "\n",
       "    .dataframe tbody tr th {\n",
       "        vertical-align: top;\n",
       "    }\n",
       "</style>\n",
       "<table border=\"1\" class=\"dataframe\">\n",
       "  <thead>\n",
       "    <tr style=\"text-align: right;\">\n",
       "      <th></th>\n",
       "      <th>symbol</th>\n",
       "      <th>weight</th>\n",
       "      <th>abs</th>\n",
       "      <th>description</th>\n",
       "    </tr>\n",
       "    <tr>\n",
       "      <th>entrez_id</th>\n",
       "      <th></th>\n",
       "      <th></th>\n",
       "      <th></th>\n",
       "      <th></th>\n",
       "    </tr>\n",
       "  </thead>\n",
       "  <tbody>\n",
       "    <tr>\n",
       "      <th>4193</th>\n",
       "      <td>MDM2</td>\n",
       "      <td>-0.008231</td>\n",
       "      <td>0.008231</td>\n",
       "      <td>MDM2 proto-oncogene</td>\n",
       "    </tr>\n",
       "    <tr>\n",
       "      <th>64782</th>\n",
       "      <td>AEN</td>\n",
       "      <td>-0.007349</td>\n",
       "      <td>0.007349</td>\n",
       "      <td>apoptosis enhancing nuclease</td>\n",
       "    </tr>\n",
       "    <tr>\n",
       "      <th>23729</th>\n",
       "      <td>SHPK</td>\n",
       "      <td>-0.006798</td>\n",
       "      <td>0.006798</td>\n",
       "      <td>sedoheptulokinase</td>\n",
       "    </tr>\n",
       "    <tr>\n",
       "      <th>81626</th>\n",
       "      <td>SHCBP1L</td>\n",
       "      <td>-0.006789</td>\n",
       "      <td>0.006789</td>\n",
       "      <td>SHC binding and spindle associated 1 like</td>\n",
       "    </tr>\n",
       "    <tr>\n",
       "      <th>23612</th>\n",
       "      <td>PHLDA3</td>\n",
       "      <td>-0.006680</td>\n",
       "      <td>0.006680</td>\n",
       "      <td>pleckstrin homology like domain family A member 3</td>\n",
       "    </tr>\n",
       "    <tr>\n",
       "      <th>1643</th>\n",
       "      <td>DDB2</td>\n",
       "      <td>-0.006492</td>\n",
       "      <td>0.006492</td>\n",
       "      <td>damage specific DNA binding protein 2</td>\n",
       "    </tr>\n",
       "    <tr>\n",
       "      <th>1819</th>\n",
       "      <td>DRG2</td>\n",
       "      <td>-0.006370</td>\n",
       "      <td>0.006370</td>\n",
       "      <td>developmentally regulated GTP binding protein 2</td>\n",
       "    </tr>\n",
       "    <tr>\n",
       "      <th>132671</th>\n",
       "      <td>SPATA18</td>\n",
       "      <td>-0.006295</td>\n",
       "      <td>0.006295</td>\n",
       "      <td>spermatogenesis associated 18</td>\n",
       "    </tr>\n",
       "    <tr>\n",
       "      <th>60401</th>\n",
       "      <td>EDA2R</td>\n",
       "      <td>-0.006162</td>\n",
       "      <td>0.006162</td>\n",
       "      <td>ectodysplasin A2 receptor</td>\n",
       "    </tr>\n",
       "    <tr>\n",
       "      <th>51499</th>\n",
       "      <td>TRIAP1</td>\n",
       "      <td>-0.005990</td>\n",
       "      <td>0.005990</td>\n",
       "      <td>TP53 regulated inhibitor of apoptosis 1</td>\n",
       "    </tr>\n",
       "  </tbody>\n",
       "</table>\n",
       "</div>"
      ],
      "text/plain": [
       "            symbol    weight       abs  \\\n",
       "entrez_id                                \n",
       "4193          MDM2 -0.008231  0.008231   \n",
       "64782          AEN -0.007349  0.007349   \n",
       "23729         SHPK -0.006798  0.006798   \n",
       "81626      SHCBP1L -0.006789  0.006789   \n",
       "23612       PHLDA3 -0.006680  0.006680   \n",
       "1643          DDB2 -0.006492  0.006492   \n",
       "1819          DRG2 -0.006370  0.006370   \n",
       "132671     SPATA18 -0.006295  0.006295   \n",
       "60401        EDA2R -0.006162  0.006162   \n",
       "51499       TRIAP1 -0.005990  0.005990   \n",
       "\n",
       "                                                 description  \n",
       "entrez_id                                                     \n",
       "4193                                     MDM2 proto-oncogene  \n",
       "64782                           apoptosis enhancing nuclease  \n",
       "23729                                      sedoheptulokinase  \n",
       "81626              SHC binding and spindle associated 1 like  \n",
       "23612      pleckstrin homology like domain family A member 3  \n",
       "1643                   damage specific DNA binding protein 2  \n",
       "1819         developmentally regulated GTP binding protein 2  \n",
       "132671                         spermatogenesis associated 18  \n",
       "60401                              ectodysplasin A2 receptor  \n",
       "51499                TP53 regulated inhibitor of apoptosis 1  "
      ]
     },
     "execution_count": 24,
     "metadata": {},
     "output_type": "execute_result"
    }
   ],
   "source": [
    "pca_for_full = (\n",
    "    final_pipelines['full']\n",
    "    .named_steps['features']\n",
    "    .get_params()['expressions__pca']\n",
    "    )\n",
    "classifier_for_full = (\n",
    "    final_pipelines['full']\n",
    "    .named_steps['classify']\n",
    "    )\n",
    "gene_coefficients_for_full = get_genes_coefficients(\n",
    "    pca_object=pca_for_full,\n",
    "    classifier_object=classifier_for_full,\n",
    "    expression_df=expression_df,\n",
    "    expression_genes_df=expression_genes_df,\n",
    "    num_covariates=len(covariate_df.columns)\n",
    "    )\n",
    "gene_coefficients_for_full.head(10)"
   ]
  },
  {
   "cell_type": "markdown",
   "metadata": {},
   "source": [
    "### Top coefficients for individual _genes_ for expressions model"
   ]
  },
  {
   "cell_type": "code",
   "execution_count": 25,
   "metadata": {},
   "outputs": [
    {
     "data": {
      "text/html": [
       "<div>\n",
       "<style>\n",
       "    .dataframe thead tr:only-child th {\n",
       "        text-align: right;\n",
       "    }\n",
       "\n",
       "    .dataframe thead th {\n",
       "        text-align: left;\n",
       "    }\n",
       "\n",
       "    .dataframe tbody tr th {\n",
       "        vertical-align: top;\n",
       "    }\n",
       "</style>\n",
       "<table border=\"1\" class=\"dataframe\">\n",
       "  <thead>\n",
       "    <tr style=\"text-align: right;\">\n",
       "      <th></th>\n",
       "      <th>symbol</th>\n",
       "      <th>weight</th>\n",
       "      <th>abs</th>\n",
       "      <th>description</th>\n",
       "    </tr>\n",
       "    <tr>\n",
       "      <th>entrez_id</th>\n",
       "      <th></th>\n",
       "      <th></th>\n",
       "      <th></th>\n",
       "      <th></th>\n",
       "    </tr>\n",
       "  </thead>\n",
       "  <tbody>\n",
       "    <tr>\n",
       "      <th>4193</th>\n",
       "      <td>MDM2</td>\n",
       "      <td>-0.008032</td>\n",
       "      <td>0.008032</td>\n",
       "      <td>MDM2 proto-oncogene</td>\n",
       "    </tr>\n",
       "    <tr>\n",
       "      <th>64782</th>\n",
       "      <td>AEN</td>\n",
       "      <td>-0.007234</td>\n",
       "      <td>0.007234</td>\n",
       "      <td>apoptosis enhancing nuclease</td>\n",
       "    </tr>\n",
       "    <tr>\n",
       "      <th>81626</th>\n",
       "      <td>SHCBP1L</td>\n",
       "      <td>-0.006931</td>\n",
       "      <td>0.006931</td>\n",
       "      <td>SHC binding and spindle associated 1 like</td>\n",
       "    </tr>\n",
       "    <tr>\n",
       "      <th>23729</th>\n",
       "      <td>SHPK</td>\n",
       "      <td>-0.006899</td>\n",
       "      <td>0.006899</td>\n",
       "      <td>sedoheptulokinase</td>\n",
       "    </tr>\n",
       "    <tr>\n",
       "      <th>23612</th>\n",
       "      <td>PHLDA3</td>\n",
       "      <td>-0.006629</td>\n",
       "      <td>0.006629</td>\n",
       "      <td>pleckstrin homology like domain family A member 3</td>\n",
       "    </tr>\n",
       "    <tr>\n",
       "      <th>1643</th>\n",
       "      <td>DDB2</td>\n",
       "      <td>-0.006350</td>\n",
       "      <td>0.006350</td>\n",
       "      <td>damage specific DNA binding protein 2</td>\n",
       "    </tr>\n",
       "    <tr>\n",
       "      <th>132671</th>\n",
       "      <td>SPATA18</td>\n",
       "      <td>-0.006340</td>\n",
       "      <td>0.006340</td>\n",
       "      <td>spermatogenesis associated 18</td>\n",
       "    </tr>\n",
       "    <tr>\n",
       "      <th>1819</th>\n",
       "      <td>DRG2</td>\n",
       "      <td>-0.006139</td>\n",
       "      <td>0.006139</td>\n",
       "      <td>developmentally regulated GTP binding protein 2</td>\n",
       "    </tr>\n",
       "    <tr>\n",
       "      <th>60401</th>\n",
       "      <td>EDA2R</td>\n",
       "      <td>-0.006048</td>\n",
       "      <td>0.006048</td>\n",
       "      <td>ectodysplasin A2 receptor</td>\n",
       "    </tr>\n",
       "    <tr>\n",
       "      <th>51499</th>\n",
       "      <td>TRIAP1</td>\n",
       "      <td>-0.006038</td>\n",
       "      <td>0.006038</td>\n",
       "      <td>TP53 regulated inhibitor of apoptosis 1</td>\n",
       "    </tr>\n",
       "  </tbody>\n",
       "</table>\n",
       "</div>"
      ],
      "text/plain": [
       "            symbol    weight       abs  \\\n",
       "entrez_id                                \n",
       "4193          MDM2 -0.008032  0.008032   \n",
       "64782          AEN -0.007234  0.007234   \n",
       "81626      SHCBP1L -0.006931  0.006931   \n",
       "23729         SHPK -0.006899  0.006899   \n",
       "23612       PHLDA3 -0.006629  0.006629   \n",
       "1643          DDB2 -0.006350  0.006350   \n",
       "132671     SPATA18 -0.006340  0.006340   \n",
       "1819          DRG2 -0.006139  0.006139   \n",
       "60401        EDA2R -0.006048  0.006048   \n",
       "51499       TRIAP1 -0.006038  0.006038   \n",
       "\n",
       "                                                 description  \n",
       "entrez_id                                                     \n",
       "4193                                     MDM2 proto-oncogene  \n",
       "64782                           apoptosis enhancing nuclease  \n",
       "81626              SHC binding and spindle associated 1 like  \n",
       "23729                                      sedoheptulokinase  \n",
       "23612      pleckstrin homology like domain family A member 3  \n",
       "1643                   damage specific DNA binding protein 2  \n",
       "132671                         spermatogenesis associated 18  \n",
       "1819         developmentally regulated GTP binding protein 2  \n",
       "60401                              ectodysplasin A2 receptor  \n",
       "51499                TP53 regulated inhibitor of apoptosis 1  "
      ]
     },
     "execution_count": 25,
     "metadata": {},
     "output_type": "execute_result"
    }
   ],
   "source": [
    "pca_for_expression = (\n",
    "    final_pipelines['expressions']\n",
    "    .named_steps['features']\n",
    "    .get_params()['expressions__pca']\n",
    "    )\n",
    "classifier_for_expression = (\n",
    "    final_pipelines['expressions']\n",
    "    .named_steps['classify']\n",
    "    )\n",
    "gene_coefficients_for_expression = get_genes_coefficients(\n",
    "    pca_object=pca_for_expression,\n",
    "    classifier_object=classifier_for_expression,\n",
    "    expression_df=expression_df,\n",
    "    expression_genes_df=expression_genes_df\n",
    "    )\n",
    "gene_coefficients_for_expression.head(10)"
   ]
  },
  {
   "cell_type": "markdown",
   "metadata": {},
   "source": [
    "## Investigate the predictions"
   ]
  },
  {
   "cell_type": "code",
   "execution_count": 26,
   "metadata": {
    "collapsed": true,
    "scrolled": false
   },
   "outputs": [],
   "source": [
    "predict_df = pd.DataFrame()\n",
    "for model, pipeline in final_pipelines.items():\n",
    "    df = pd.DataFrame.from_items([\n",
    "        ('feature_set', model),\n",
    "        ('sample_id', X.index),\n",
    "        ('test_set', X.index.isin(X_test.index).astype(int)),\n",
    "        ('status', y),\n",
    "        ('decision_function', pipeline.decision_function(X)),\n",
    "        ('probability', pipeline.predict_proba(X)[:, 1])\n",
    "    ])    \n",
    "    predict_df = predict_df.append(df)\n",
    "\n",
    "predict_df['probability_str'] = predict_df['probability'].apply('{:.1%}'.format)"
   ]
  },
  {
   "cell_type": "code",
   "execution_count": 27,
   "metadata": {},
   "outputs": [
    {
     "data": {
      "text/html": [
       "<div>\n",
       "<style>\n",
       "    .dataframe thead tr:only-child th {\n",
       "        text-align: right;\n",
       "    }\n",
       "\n",
       "    .dataframe thead th {\n",
       "        text-align: left;\n",
       "    }\n",
       "\n",
       "    .dataframe tbody tr th {\n",
       "        vertical-align: top;\n",
       "    }\n",
       "</style>\n",
       "<table border=\"1\" class=\"dataframe\">\n",
       "  <thead>\n",
       "    <tr style=\"text-align: right;\">\n",
       "      <th></th>\n",
       "      <th>feature_set</th>\n",
       "      <th>sample_id</th>\n",
       "      <th>test_set</th>\n",
       "      <th>status</th>\n",
       "      <th>decision_function</th>\n",
       "      <th>probability</th>\n",
       "      <th>probability_str</th>\n",
       "    </tr>\n",
       "    <tr>\n",
       "      <th>sample_id</th>\n",
       "      <th></th>\n",
       "      <th></th>\n",
       "      <th></th>\n",
       "      <th></th>\n",
       "      <th></th>\n",
       "      <th></th>\n",
       "      <th></th>\n",
       "    </tr>\n",
       "  </thead>\n",
       "  <tbody>\n",
       "    <tr>\n",
       "      <th>TCGA-L5-A4OH-01</th>\n",
       "      <td>full</td>\n",
       "      <td>TCGA-L5-A4OH-01</td>\n",
       "      <td>0</td>\n",
       "      <td>0</td>\n",
       "      <td>6.500973</td>\n",
       "      <td>0.998500</td>\n",
       "      <td>99.9%</td>\n",
       "    </tr>\n",
       "    <tr>\n",
       "      <th>TCGA-22-4591-01</th>\n",
       "      <td>full</td>\n",
       "      <td>TCGA-22-4591-01</td>\n",
       "      <td>1</td>\n",
       "      <td>0</td>\n",
       "      <td>6.113978</td>\n",
       "      <td>0.997793</td>\n",
       "      <td>99.8%</td>\n",
       "    </tr>\n",
       "    <tr>\n",
       "      <th>TCGA-21-1081-01</th>\n",
       "      <td>full</td>\n",
       "      <td>TCGA-21-1081-01</td>\n",
       "      <td>0</td>\n",
       "      <td>0</td>\n",
       "      <td>5.424201</td>\n",
       "      <td>0.995611</td>\n",
       "      <td>99.6%</td>\n",
       "    </tr>\n",
       "    <tr>\n",
       "      <th>TCGA-EI-6513-01</th>\n",
       "      <td>full</td>\n",
       "      <td>TCGA-EI-6513-01</td>\n",
       "      <td>1</td>\n",
       "      <td>0</td>\n",
       "      <td>5.327085</td>\n",
       "      <td>0.995165</td>\n",
       "      <td>99.5%</td>\n",
       "    </tr>\n",
       "    <tr>\n",
       "      <th>TCGA-46-3765-01</th>\n",
       "      <td>full</td>\n",
       "      <td>TCGA-46-3765-01</td>\n",
       "      <td>0</td>\n",
       "      <td>0</td>\n",
       "      <td>5.156173</td>\n",
       "      <td>0.994269</td>\n",
       "      <td>99.4%</td>\n",
       "    </tr>\n",
       "    <tr>\n",
       "      <th>TCGA-L5-A8NR-01</th>\n",
       "      <td>full</td>\n",
       "      <td>TCGA-L5-A8NR-01</td>\n",
       "      <td>0</td>\n",
       "      <td>0</td>\n",
       "      <td>4.983415</td>\n",
       "      <td>0.993196</td>\n",
       "      <td>99.3%</td>\n",
       "    </tr>\n",
       "    <tr>\n",
       "      <th>TCGA-CV-7261-01</th>\n",
       "      <td>full</td>\n",
       "      <td>TCGA-CV-7261-01</td>\n",
       "      <td>0</td>\n",
       "      <td>0</td>\n",
       "      <td>4.839534</td>\n",
       "      <td>0.992151</td>\n",
       "      <td>99.2%</td>\n",
       "    </tr>\n",
       "    <tr>\n",
       "      <th>TCGA-B6-A0I6-01</th>\n",
       "      <td>full</td>\n",
       "      <td>TCGA-B6-A0I6-01</td>\n",
       "      <td>0</td>\n",
       "      <td>0</td>\n",
       "      <td>4.754566</td>\n",
       "      <td>0.991461</td>\n",
       "      <td>99.1%</td>\n",
       "    </tr>\n",
       "    <tr>\n",
       "      <th>TCGA-BR-8373-01</th>\n",
       "      <td>full</td>\n",
       "      <td>TCGA-BR-8373-01</td>\n",
       "      <td>0</td>\n",
       "      <td>0</td>\n",
       "      <td>4.615660</td>\n",
       "      <td>0.990201</td>\n",
       "      <td>99.0%</td>\n",
       "    </tr>\n",
       "    <tr>\n",
       "      <th>TCGA-20-1684-01</th>\n",
       "      <td>full</td>\n",
       "      <td>TCGA-20-1684-01</td>\n",
       "      <td>0</td>\n",
       "      <td>0</td>\n",
       "      <td>4.593257</td>\n",
       "      <td>0.989982</td>\n",
       "      <td>99.0%</td>\n",
       "    </tr>\n",
       "  </tbody>\n",
       "</table>\n",
       "</div>"
      ],
      "text/plain": [
       "                feature_set        sample_id  test_set  status  \\\n",
       "sample_id                                                        \n",
       "TCGA-L5-A4OH-01        full  TCGA-L5-A4OH-01         0       0   \n",
       "TCGA-22-4591-01        full  TCGA-22-4591-01         1       0   \n",
       "TCGA-21-1081-01        full  TCGA-21-1081-01         0       0   \n",
       "TCGA-EI-6513-01        full  TCGA-EI-6513-01         1       0   \n",
       "TCGA-46-3765-01        full  TCGA-46-3765-01         0       0   \n",
       "TCGA-L5-A8NR-01        full  TCGA-L5-A8NR-01         0       0   \n",
       "TCGA-CV-7261-01        full  TCGA-CV-7261-01         0       0   \n",
       "TCGA-B6-A0I6-01        full  TCGA-B6-A0I6-01         0       0   \n",
       "TCGA-BR-8373-01        full  TCGA-BR-8373-01         0       0   \n",
       "TCGA-20-1684-01        full  TCGA-20-1684-01         0       0   \n",
       "\n",
       "                 decision_function  probability probability_str  \n",
       "sample_id                                                        \n",
       "TCGA-L5-A4OH-01           6.500973     0.998500           99.9%  \n",
       "TCGA-22-4591-01           6.113978     0.997793           99.8%  \n",
       "TCGA-21-1081-01           5.424201     0.995611           99.6%  \n",
       "TCGA-EI-6513-01           5.327085     0.995165           99.5%  \n",
       "TCGA-46-3765-01           5.156173     0.994269           99.4%  \n",
       "TCGA-L5-A8NR-01           4.983415     0.993196           99.3%  \n",
       "TCGA-CV-7261-01           4.839534     0.992151           99.2%  \n",
       "TCGA-B6-A0I6-01           4.754566     0.991461           99.1%  \n",
       "TCGA-BR-8373-01           4.615660     0.990201           99.0%  \n",
       "TCGA-20-1684-01           4.593257     0.989982           99.0%  "
      ]
     },
     "execution_count": 27,
     "metadata": {},
     "output_type": "execute_result"
    }
   ],
   "source": [
    "# Top predictions amongst negatives (potential hidden responders to a targeted cancer therapy)\n",
    "(predict_df\n",
    "    .sort_values('decision_function', ascending=False)\n",
    "    .query(\"status == 0 and feature_set == 'full'\")\n",
    "    .head(10)\n",
    ")"
   ]
  },
  {
   "cell_type": "code",
   "execution_count": 28,
   "metadata": {},
   "outputs": [
    {
     "data": {
      "image/png": "[encoded data removed]",
      "text/plain": [
       "<matplotlib.figure.Figure at 0x34d23cf8>"
      ]
     },
     "metadata": {},
     "output_type": "display_data"
    },
    {
     "data": {
      "text/plain": [
       "<ggplot: (3720817)>"
      ]
     },
     "execution_count": 28,
     "metadata": {},
     "output_type": "execute_result"
    }
   ],
   "source": [
    "predict_df['status_'] = predict_df['status'].map(\n",
    "    lambda x: 'negative' if x == 0 else 'positive')\n",
    "\n",
    "(gg.ggplot(predict_df, gg.aes(x='probability', \n",
    "                              fill='status_'))\n",
    " + gg.geom_density(alpha=0.6)\n",
    " + gg.facet_wrap('~feature_set', ncol=1)\n",
    " + gg.labs(x='probability', y='density')\n",
    " + gg.guides(fill=gg.guide_legend(title=\"\"))\n",
    " + theme_cognoma())"
   ]
  }
 ],
 "metadata": {
  "kernelspec": {
   "display_name": "Python 3",
   "language": "python",
   "name": "python3"
  },
  "language_info": {
   "codemirror_mode": {
    "name": "ipython",
    "version": 3
   },
   "file_extension": ".py",
   "mimetype": "text/x-python",
   "name": "python",
   "nbconvert_exporter": "python",
   "pygments_lexer": "ipython3",
   "version": "3.5.3"
  }
 },
 "nbformat": 4,
 "nbformat_minor": 1
}
